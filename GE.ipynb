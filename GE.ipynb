{
 "cells": [
  {
   "cell_type": "markdown",
   "metadata": {
    "colab_type": "text",
    "id": "GpNWsasWBill"
   },
   "source": [
    "# Predict the classification and create risk profile\n"
   ]
  },
  {
   "cell_type": "markdown",
   "metadata": {
    "colab_type": "text",
    "id": "cTckpMvmU1r3"
   },
   "source": [
    "## Summary\n",
    "\n",
    "### Group 2:\n",
    "  Chao Xu,  Weichuan Xu,  Sanket Harinarayan Khandelwal, Pooja Swaminathan\n",
    "\n",
    "\n",
    "### Objectives:\n",
    "For this project, first, we want to use the machine learning model to predict the classification to replace the job finished by analyst before. Second, we want to create the risk profile based on our models\n",
    "\n",
    "### Methods:\n",
    "Classification problem: Logistic Regression &  Random Forest models\n",
    "\n",
    "### Introduction\n",
    "For predicting the classification, we want to minimize the FP, so we encoding the FP as 1, and others as 0. \n",
    "For create risk profile, we encoding all classification value which risk involved (TP/Low, TP/High) as 1, and others as 0.\n",
    "In this notebook, we use the feature importance to create the risk profile, from the result we can see **score**, **risk_factor**, **APP_2_DWB** are top 3 most important features, which can give suggestion to GE Aviation to pay more attention on that.\n",
    "\n",
    "From the result, we can see that our model's performance is pretty good, the best model is Random Forest, the accuracy is: **0.989**, the precision is: **0.929**, the recall is: **0.742**."
   ]
  },
  {
   "cell_type": "markdown",
   "metadata": {
    "colab_type": "text",
    "id": "5AtYYFuAB32K"
   },
   "source": [
    "## Content\n"
   ]
  },
  {
   "cell_type": "markdown",
   "metadata": {
    "colab_type": "text",
    "id": "CR25t-cnB-kV"
   },
   "source": [
    "\n",
    "<a href=\"#Part 1: DataExploration\">[Part 1: Data Exploration]\n",
    "  \n",
    "<a href=\"#Part-2:-Feature-Preprocessing\">[Part 2: Feature Preprocessing]\n",
    "  \n",
    "<a href=\"#Part-3:-Model-Training-and-Result-Evaluation\">[Part 3: Model Training and Results Evaluation]\n",
    "\n",
    "<a href=\"#Part-4:-Feature-Selection\">[Part 4: Feature Selection]\n",
    "\n"
   ]
  },
  {
   "cell_type": "markdown",
   "metadata": {
    "colab_type": "text",
    "id": "pMjih3bZT0UV"
   },
   "source": [
    "## Workflow\n",
    "![workflow](https://raw.githubusercontent.com/amueller/ml-workshop-2-of-4/master/slides/images/gridsearch_workflow.png )"
   ]
  },
  {
   "cell_type": "markdown",
   "metadata": {
    "colab_type": "text",
    "id": "tTbrwxIvCb8v"
   },
   "source": [
    "# Part 0: Load the data set"
   ]
  },
  {
   "cell_type": "code",
   "execution_count": null,
   "metadata": {
    "colab": {},
    "colab_type": "code",
    "id": "GNRYQJ8pCah_"
   },
   "outputs": [],
   "source": [
    "%matplotlib inline\n",
    "import pandas as pd\n",
    "import matplotlib.pyplot as plt\n",
    "import numpy as np\n",
    "import seaborn as sns\n",
    "pd.set_option('display.float_format', lambda x: '%.3f' % x)\n",
    "\n",
    "# load the alert dataset\n",
    "file_id='1MjqZCt49ttsJBmKPjYZI-1T5BFrF7JXa'\n",
    "link='https://drive.google.com/uc?export=download&id={FILE_ID}'\n",
    "csv_url=link.format(FILE_ID=file_id)\n",
    "my_data = pd.read_csv(csv_url)\n",
    "\n",
    "# load the demographic dataset\n",
    "file_id2 ='1rQwrS3iYEw1W92jlpMvpR-MYQyRuN93m'\n",
    "csv_url2 = link.format(FILE_ID=file_id2)\n",
    "demographic = pd.read_csv(csv_url2)"
   ]
  },
  {
   "cell_type": "markdown",
   "metadata": {
    "colab_type": "text",
    "id": "A1RU51ezDEqy"
   },
   "source": [
    "data description"
   ]
  },
  {
   "cell_type": "markdown",
   "metadata": {
    "colab_type": "text",
    "id": "W6lkbBr9DRVg"
   },
   "source": [
    "# Part 1: Data Exploration"
   ]
  },
  {
   "cell_type": "markdown",
   "metadata": {
    "colab_type": "text",
    "id": "rMIv0Ic7DTJv"
   },
   "source": [
    "### Part 1.1: Understand the Raw Dataset"
   ]
  },
  {
   "cell_type": "code",
   "execution_count": 2,
   "metadata": {
    "colab": {
     "base_uri": "https://localhost:8080/",
     "height": 71
    },
    "colab_type": "code",
    "id": "TMv253UNDMR8",
    "outputId": "3a1cf0bd-ddc6-42b5-eac1-6bd3e3c301b6"
   },
   "outputs": [
    {
     "name": "stderr",
     "output_type": "stream",
     "text": [
      "/usr/local/lib/python3.6/dist-packages/sklearn/externals/six.py:31: DeprecationWarning: The module is deprecated in version 0.21 and will be removed in version 0.23 since we've dropped support for Python 2.7. Please rely on the official version of six (https://pypi.org/project/six/).\n",
      "  \"(https://pypi.org/project/six/).\", DeprecationWarning)\n"
     ]
    }
   ],
   "source": [
    "import warnings\n",
    "warnings.filterwarnings('ignore')\n",
    "\n",
    "import imblearn\n",
    "# will show all the columns\n",
    "pd.set_option('display.max_columns', None)"
   ]
  },
  {
   "cell_type": "code",
   "execution_count": 3,
   "metadata": {
    "colab": {
     "base_uri": "https://localhost:8080/",
     "height": 51
    },
    "colab_type": "code",
    "id": "6kIWoummDoOA",
    "outputId": "49c76a0b-8815-4c63-df26-b2d8e57b4ae7"
   },
   "outputs": [
    {
     "name": "stdout",
     "output_type": "stream",
     "text": [
      "total number of rows in alert dataset: 127710\n",
      "total number of rows in demographic dataset: 1374\n"
     ]
    }
   ],
   "source": [
    "print('total number of rows in alert dataset: %d' % my_data.shape[0])\n",
    "print('total number of rows in demographic dataset: %d' % demographic.shape[0])"
   ]
  },
  {
   "cell_type": "code",
   "execution_count": 4,
   "metadata": {
    "colab": {
     "base_uri": "https://localhost:8080/",
     "height": 224
    },
    "colab_type": "code",
    "id": "D-37gzLLxA6z",
    "outputId": "2a7b9ee3-bd3e-481d-d1fb-85af701c9f92"
   },
   "outputs": [
    {
     "data": {
      "text/html": [
       "<div>\n",
       "<style scoped>\n",
       "    .dataframe tbody tr th:only-of-type {\n",
       "        vertical-align: middle;\n",
       "    }\n",
       "\n",
       "    .dataframe tbody tr th {\n",
       "        vertical-align: top;\n",
       "    }\n",
       "\n",
       "    .dataframe thead th {\n",
       "        text-align: right;\n",
       "    }\n",
       "</style>\n",
       "<table border=\"1\" class=\"dataframe\">\n",
       "  <thead>\n",
       "    <tr style=\"text-align: right;\">\n",
       "      <th></th>\n",
       "      <th>type_name</th>\n",
       "      <th>alert_escalation_date</th>\n",
       "      <th>alert_id_fk</th>\n",
       "      <th>insert_date</th>\n",
       "      <th>score</th>\n",
       "      <th>status</th>\n",
       "      <th>resolution</th>\n",
       "      <th>owner_name</th>\n",
       "      <th>malicious</th>\n",
       "      <th>employee_id</th>\n",
       "      <th>risk_factor</th>\n",
       "      <th>avg_score</th>\n",
       "      <th>classification</th>\n",
       "      <th>HRU</th>\n",
       "      <th>indicators</th>\n",
       "      <th>indicator_pairs</th>\n",
       "      <th>alert_category</th>\n",
       "      <th>alert_type</th>\n",
       "      <th>grouping</th>\n",
       "      <th>indicator_heat_score</th>\n",
       "    </tr>\n",
       "  </thead>\n",
       "  <tbody>\n",
       "    <tr>\n",
       "      <th>0</th>\n",
       "      <td>TP</td>\n",
       "      <td>3/26/2018 20:18</td>\n",
       "      <td>319529787</td>\n",
       "      <td>9/29/2017</td>\n",
       "      <td>180</td>\n",
       "      <td>cleared</td>\n",
       "      <td>closed</td>\n",
       "      <td>Senior_Analyst_1</td>\n",
       "      <td>yes</td>\n",
       "      <td>2313834724</td>\n",
       "      <td>1.800</td>\n",
       "      <td>100.000</td>\n",
       "      <td>TP/DE</td>\n",
       "      <td>None</td>\n",
       "      <td>App_1_Box_Aged_Files</td>\n",
       "      <td>App_1_Box_Aged_Files</td>\n",
       "      <td>Heat</td>\n",
       "      <td>Daily_Heat</td>\n",
       "      <td>App_1</td>\n",
       "      <td>3.000</td>\n",
       "    </tr>\n",
       "    <tr>\n",
       "      <th>1</th>\n",
       "      <td>TP</td>\n",
       "      <td>3/26/2018 20:18</td>\n",
       "      <td>1633242574</td>\n",
       "      <td>9/29/2017</td>\n",
       "      <td>172</td>\n",
       "      <td>cleared</td>\n",
       "      <td>closed</td>\n",
       "      <td>Senior_Analyst_1</td>\n",
       "      <td>yes</td>\n",
       "      <td>13152813815</td>\n",
       "      <td>1.720</td>\n",
       "      <td>100.000</td>\n",
       "      <td>TP/DE</td>\n",
       "      <td>HRU11</td>\n",
       "      <td>App_1_Box_Aged_Files</td>\n",
       "      <td>App_1_Box_Aged_Files/App_4_Request_Volume_30da...</td>\n",
       "      <td>Heat</td>\n",
       "      <td>Daily_Heat</td>\n",
       "      <td>App_1</td>\n",
       "      <td>3.000</td>\n",
       "    </tr>\n",
       "    <tr>\n",
       "      <th>2</th>\n",
       "      <td>TP</td>\n",
       "      <td>3/26/2018 20:18</td>\n",
       "      <td>1633242574</td>\n",
       "      <td>9/29/2017</td>\n",
       "      <td>172</td>\n",
       "      <td>cleared</td>\n",
       "      <td>closed</td>\n",
       "      <td>Senior_Analyst_1</td>\n",
       "      <td>yes</td>\n",
       "      <td>13152813815</td>\n",
       "      <td>1.720</td>\n",
       "      <td>100.000</td>\n",
       "      <td>TP/DE</td>\n",
       "      <td>HRU11</td>\n",
       "      <td>App_4_Request_Volume_30day</td>\n",
       "      <td>App_1_Box_Aged_Files/App_4_Request_Volume_30da...</td>\n",
       "      <td>Heat</td>\n",
       "      <td>Daily_Heat</td>\n",
       "      <td>App_4</td>\n",
       "      <td>4.000</td>\n",
       "    </tr>\n",
       "    <tr>\n",
       "      <th>3</th>\n",
       "      <td>TP</td>\n",
       "      <td>3/26/2018 20:18</td>\n",
       "      <td>1633242574</td>\n",
       "      <td>9/29/2017</td>\n",
       "      <td>172</td>\n",
       "      <td>cleared</td>\n",
       "      <td>closed</td>\n",
       "      <td>Senior_Analyst_1</td>\n",
       "      <td>yes</td>\n",
       "      <td>13152813815</td>\n",
       "      <td>1.720</td>\n",
       "      <td>100.000</td>\n",
       "      <td>TP/DE</td>\n",
       "      <td>HRU11</td>\n",
       "      <td>App_4_Request_Volume_90day</td>\n",
       "      <td>App_1_Box_Aged_Files/App_4_Request_Volume_30da...</td>\n",
       "      <td>Heat</td>\n",
       "      <td>Daily_Heat</td>\n",
       "      <td>App_4</td>\n",
       "      <td>3.000</td>\n",
       "    </tr>\n",
       "    <tr>\n",
       "      <th>4</th>\n",
       "      <td>TP</td>\n",
       "      <td>3/26/2018 20:18</td>\n",
       "      <td>1633242574</td>\n",
       "      <td>9/29/2017</td>\n",
       "      <td>172</td>\n",
       "      <td>cleared</td>\n",
       "      <td>closed</td>\n",
       "      <td>Senior_Analyst_1</td>\n",
       "      <td>yes</td>\n",
       "      <td>13152813815</td>\n",
       "      <td>1.720</td>\n",
       "      <td>100.000</td>\n",
       "      <td>TP/DE</td>\n",
       "      <td>HRU11</td>\n",
       "      <td>App_14_Threshold_1</td>\n",
       "      <td>App_1_Box_Aged_Files/App_4_Request_Volume_30da...</td>\n",
       "      <td>Heat</td>\n",
       "      <td>Daily_Heat</td>\n",
       "      <td>App_14</td>\n",
       "      <td>3.000</td>\n",
       "    </tr>\n",
       "  </tbody>\n",
       "</table>\n",
       "</div>"
      ],
      "text/plain": [
       "  type_name alert_escalation_date  alert_id_fk insert_date  score   status  \\\n",
       "0        TP       3/26/2018 20:18    319529787   9/29/2017    180  cleared   \n",
       "1        TP       3/26/2018 20:18   1633242574   9/29/2017    172  cleared   \n",
       "2        TP       3/26/2018 20:18   1633242574   9/29/2017    172  cleared   \n",
       "3        TP       3/26/2018 20:18   1633242574   9/29/2017    172  cleared   \n",
       "4        TP       3/26/2018 20:18   1633242574   9/29/2017    172  cleared   \n",
       "\n",
       "  resolution        owner_name malicious  employee_id  risk_factor  avg_score  \\\n",
       "0     closed  Senior_Analyst_1       yes   2313834724        1.800    100.000   \n",
       "1     closed  Senior_Analyst_1       yes  13152813815        1.720    100.000   \n",
       "2     closed  Senior_Analyst_1       yes  13152813815        1.720    100.000   \n",
       "3     closed  Senior_Analyst_1       yes  13152813815        1.720    100.000   \n",
       "4     closed  Senior_Analyst_1       yes  13152813815        1.720    100.000   \n",
       "\n",
       "  classification    HRU                  indicators  \\\n",
       "0          TP/DE   None        App_1_Box_Aged_Files   \n",
       "1          TP/DE  HRU11        App_1_Box_Aged_Files   \n",
       "2          TP/DE  HRU11  App_4_Request_Volume_30day   \n",
       "3          TP/DE  HRU11  App_4_Request_Volume_90day   \n",
       "4          TP/DE  HRU11          App_14_Threshold_1   \n",
       "\n",
       "                                     indicator_pairs alert_category  \\\n",
       "0                               App_1_Box_Aged_Files           Heat   \n",
       "1  App_1_Box_Aged_Files/App_4_Request_Volume_30da...           Heat   \n",
       "2  App_1_Box_Aged_Files/App_4_Request_Volume_30da...           Heat   \n",
       "3  App_1_Box_Aged_Files/App_4_Request_Volume_30da...           Heat   \n",
       "4  App_1_Box_Aged_Files/App_4_Request_Volume_30da...           Heat   \n",
       "\n",
       "   alert_type grouping  indicator_heat_score  \n",
       "0  Daily_Heat    App_1                 3.000  \n",
       "1  Daily_Heat    App_1                 3.000  \n",
       "2  Daily_Heat    App_4                 4.000  \n",
       "3  Daily_Heat    App_4                 3.000  \n",
       "4  Daily_Heat   App_14                 3.000  "
      ]
     },
     "execution_count": 4,
     "metadata": {
      "tags": []
     },
     "output_type": "execute_result"
    }
   ],
   "source": [
    "my_data.head()"
   ]
  },
  {
   "cell_type": "code",
   "execution_count": 5,
   "metadata": {
    "colab": {
     "base_uri": "https://localhost:8080/",
     "height": 170
    },
    "colab_type": "code",
    "id": "kNz570BKp0zg",
    "outputId": "f43a5334-5dde-48e3-a22e-6a9e7cd7e5af"
   },
   "outputs": [
    {
     "data": {
      "text/plain": [
       "Senior_Analyst_1    69728\n",
       "Analyst_4           33081\n",
       "Analyst_1           10629\n",
       "Analyst_6            9283\n",
       "Senior_Analyst_2     4490\n",
       "Analyst_5             275\n",
       "Analyst_3             214\n",
       "Analyst_2              10\n",
       "Name: owner_name, dtype: int64"
      ]
     },
     "execution_count": 5,
     "metadata": {
      "tags": []
     },
     "output_type": "execute_result"
    }
   ],
   "source": [
    "my_data.owner_name.value_counts()"
   ]
  },
  {
   "cell_type": "code",
   "execution_count": 6,
   "metadata": {
    "colab": {
     "base_uri": "https://localhost:8080/",
     "height": 513
    },
    "colab_type": "code",
    "id": "teGH1l0pdMWB",
    "outputId": "0659c4aa-286f-483d-dead-c02080e51a6f"
   },
   "outputs": [
    {
     "data": {
      "text/html": [
       "<div>\n",
       "<style scoped>\n",
       "    .dataframe tbody tr th:only-of-type {\n",
       "        vertical-align: middle;\n",
       "    }\n",
       "\n",
       "    .dataframe tbody tr th {\n",
       "        vertical-align: top;\n",
       "    }\n",
       "\n",
       "    .dataframe thead th {\n",
       "        text-align: right;\n",
       "    }\n",
       "</style>\n",
       "<table border=\"1\" class=\"dataframe\">\n",
       "  <thead>\n",
       "    <tr style=\"text-align: right;\">\n",
       "      <th></th>\n",
       "      <th>employee_id</th>\n",
       "      <th>Person_Type</th>\n",
       "      <th>GE_Hire_Date</th>\n",
       "      <th>State_Name</th>\n",
       "      <th>Country_Name</th>\n",
       "      <th>COUNTRY_CODE</th>\n",
       "      <th>Business_Segment</th>\n",
       "      <th>Sub_Business</th>\n",
       "      <th>Function</th>\n",
       "      <th>Function_Group</th>\n",
       "      <th>Org_Name</th>\n",
       "      <th>Career_Band</th>\n",
       "      <th>JOB_TITLE</th>\n",
       "      <th>JOB_TYPE</th>\n",
       "    </tr>\n",
       "  </thead>\n",
       "  <tbody>\n",
       "    <tr>\n",
       "      <th>0</th>\n",
       "      <td>7296648307</td>\n",
       "      <td>Employee</td>\n",
       "      <td>6/27/2010 0:00</td>\n",
       "      <td>Dubai</td>\n",
       "      <td>United Arab Emirates</td>\n",
       "      <td>AE</td>\n",
       "      <td>Aviation Commercial Engines</td>\n",
       "      <td>AVI CEO-Customer &amp; Product Support</td>\n",
       "      <td>Engineering/Technology</td>\n",
       "      <td>Production</td>\n",
       "      <td>AVI CEO-CPS-Commercial Field Service</td>\n",
       "      <td>SPB</td>\n",
       "      <td>No_Data</td>\n",
       "      <td>Sr Engineering Manager 2 - Fleet Management</td>\n",
       "    </tr>\n",
       "    <tr>\n",
       "      <th>1</th>\n",
       "      <td>9526104533</td>\n",
       "      <td>Ex-employee</td>\n",
       "      <td>11/8/2010 0:00</td>\n",
       "      <td>Karnataka</td>\n",
       "      <td>India</td>\n",
       "      <td>IN</td>\n",
       "      <td>Aviation Digital</td>\n",
       "      <td>AVI DIG-Digital Service Solutions</td>\n",
       "      <td>Digital Technology</td>\n",
       "      <td>Enabling</td>\n",
       "      <td>AVI DIG-DSS-India</td>\n",
       "      <td>SPB</td>\n",
       "      <td>No_Data</td>\n",
       "      <td>Sr Staff Data Scientist</td>\n",
       "    </tr>\n",
       "    <tr>\n",
       "      <th>2</th>\n",
       "      <td>3655799847</td>\n",
       "      <td>Employee</td>\n",
       "      <td>8/27/2007 0:00</td>\n",
       "      <td>Masovian</td>\n",
       "      <td>Poland</td>\n",
       "      <td>PL</td>\n",
       "      <td>Aviation Engineering</td>\n",
       "      <td>AVI ENG-Engineering Design Center Poland</td>\n",
       "      <td>Engineering/Technology</td>\n",
       "      <td>Production</td>\n",
       "      <td>AVI ENG-EDC-Engineering Material Systems</td>\n",
       "      <td>SPB</td>\n",
       "      <td>No_Data</td>\n",
       "      <td>Sr Scientist CTH 3 - Materials Science and Eng...</td>\n",
       "    </tr>\n",
       "    <tr>\n",
       "      <th>3</th>\n",
       "      <td>9672758310</td>\n",
       "      <td>Employee</td>\n",
       "      <td>4/22/1996 0:00</td>\n",
       "      <td>Ohio</td>\n",
       "      <td>United States</td>\n",
       "      <td>US</td>\n",
       "      <td>Aviation Engineering</td>\n",
       "      <td>AVI ENG-Engineering Material Systems</td>\n",
       "      <td>Engineering/Technology</td>\n",
       "      <td>Production</td>\n",
       "      <td>AVI ENG-Engineering Material Systems</td>\n",
       "      <td>SPB</td>\n",
       "      <td>No_Data</td>\n",
       "      <td>Sr Scientist 1 - Materials Science and Enginee...</td>\n",
       "    </tr>\n",
       "    <tr>\n",
       "      <th>4</th>\n",
       "      <td>13558590425</td>\n",
       "      <td>Employee</td>\n",
       "      <td>2/3/1997 0:00</td>\n",
       "      <td>Ohio</td>\n",
       "      <td>United States</td>\n",
       "      <td>US</td>\n",
       "      <td>Aviation Engineering</td>\n",
       "      <td>AVI ENG-Chief Engineer</td>\n",
       "      <td>Engineering/Technology</td>\n",
       "      <td>Production</td>\n",
       "      <td>AVI ENG-CE-General Electric Aviation Engines</td>\n",
       "      <td>SPB</td>\n",
       "      <td>No_Data</td>\n",
       "      <td>Sr Engineer CTH 0 - Chief Engineering</td>\n",
       "    </tr>\n",
       "  </tbody>\n",
       "</table>\n",
       "</div>"
      ],
      "text/plain": [
       "   employee_id  Person_Type    GE_Hire_Date State_Name          Country_Name  \\\n",
       "0   7296648307     Employee  6/27/2010 0:00      Dubai  United Arab Emirates   \n",
       "1   9526104533  Ex-employee  11/8/2010 0:00  Karnataka                 India   \n",
       "2   3655799847     Employee  8/27/2007 0:00   Masovian                Poland   \n",
       "3   9672758310     Employee  4/22/1996 0:00       Ohio         United States   \n",
       "4  13558590425     Employee   2/3/1997 0:00       Ohio         United States   \n",
       "\n",
       "  COUNTRY_CODE             Business_Segment  \\\n",
       "0           AE  Aviation Commercial Engines   \n",
       "1           IN             Aviation Digital   \n",
       "2           PL         Aviation Engineering   \n",
       "3           US         Aviation Engineering   \n",
       "4           US         Aviation Engineering   \n",
       "\n",
       "                               Sub_Business                Function  \\\n",
       "0        AVI CEO-Customer & Product Support  Engineering/Technology   \n",
       "1         AVI DIG-Digital Service Solutions      Digital Technology   \n",
       "2  AVI ENG-Engineering Design Center Poland  Engineering/Technology   \n",
       "3      AVI ENG-Engineering Material Systems  Engineering/Technology   \n",
       "4                    AVI ENG-Chief Engineer  Engineering/Technology   \n",
       "\n",
       "  Function_Group                                      Org_Name Career_Band  \\\n",
       "0     Production          AVI CEO-CPS-Commercial Field Service         SPB   \n",
       "1       Enabling                             AVI DIG-DSS-India         SPB   \n",
       "2     Production      AVI ENG-EDC-Engineering Material Systems         SPB   \n",
       "3     Production          AVI ENG-Engineering Material Systems         SPB   \n",
       "4     Production  AVI ENG-CE-General Electric Aviation Engines         SPB   \n",
       "\n",
       "  JOB_TITLE                                           JOB_TYPE  \n",
       "0   No_Data        Sr Engineering Manager 2 - Fleet Management  \n",
       "1   No_Data                            Sr Staff Data Scientist  \n",
       "2   No_Data  Sr Scientist CTH 3 - Materials Science and Eng...  \n",
       "3   No_Data  Sr Scientist 1 - Materials Science and Enginee...  \n",
       "4   No_Data              Sr Engineer CTH 0 - Chief Engineering  "
      ]
     },
     "execution_count": 6,
     "metadata": {
      "tags": []
     },
     "output_type": "execute_result"
    }
   ],
   "source": [
    "demographic.head()"
   ]
  },
  {
   "cell_type": "markdown",
   "metadata": {
    "colab_type": "text",
    "id": "RB9E7oDugssX"
   },
   "source": [
    "#### drop the meaningless columns"
   ]
  },
  {
   "cell_type": "code",
   "execution_count": 7,
   "metadata": {
    "colab": {
     "base_uri": "https://localhost:8080/",
     "height": 51
    },
    "colab_type": "code",
    "id": "iZiiLFcpfStH",
    "outputId": "6ba817e3-0eaa-40ae-8ec1-88289622300a"
   },
   "outputs": [
    {
     "name": "stdout",
     "output_type": "stream",
     "text": [
      "Alert dataset: \n",
      " Dataset size: 127710  number of features: 15  number of classes: 4\n"
     ]
    }
   ],
   "source": [
    "# Drop the features that assigned by data scientist\n",
    "df_indicator = my_data['indicators'].copy()\n",
    "assign_ds = ['type_name', 'indicators', 'alert_category', 'grouping','indicator_heat_score']\n",
    "my_data = my_data.drop(assign_ds, axis=1)\n",
    "print('Alert dataset:', '\\n', \"Dataset size: %d  number of features: %d  number of classes: %d\"\n",
    "      % (my_data.shape[0], my_data.shape[1], len(np.unique(my_data['classification']))))"
   ]
  },
  {
   "cell_type": "code",
   "execution_count": 8,
   "metadata": {
    "colab": {
     "base_uri": "https://localhost:8080/",
     "height": 51
    },
    "colab_type": "code",
    "id": "PzeIIGzng0Tp",
    "outputId": "50ac9271-bf00-4cd2-e485-704898136dbb"
   },
   "outputs": [
    {
     "name": "stdout",
     "output_type": "stream",
     "text": [
      "Demographic dataset: \n",
      " Dataset size: 1374  number of features: 6\n"
     ]
    }
   ],
   "source": [
    "no_mean = ['Person_Type', 'GE_Hire_Date',\n",
    "       'Country_Name', 'Sub_Business','Function', 'Org_Name',  \n",
    "       'JOB_TITLE','JOB_TYPE']\n",
    "demographic = demographic.drop(no_mean, axis=1)\n",
    "print('Demographic dataset:', '\\n',\"Dataset size: %d  number of features: %d\"\n",
    "      % (demographic.shape[0], demographic.shape[1]))"
   ]
  },
  {
   "cell_type": "code",
   "execution_count": 9,
   "metadata": {
    "colab": {
     "base_uri": "https://localhost:8080/",
     "height": 51
    },
    "colab_type": "code",
    "id": "hPNCVX7EHV1i",
    "outputId": "8d31c594-db47-4764-b85a-45628142fbf3"
   },
   "outputs": [
    {
     "name": "stdout",
     "output_type": "stream",
     "text": [
      "The number of duplicated data is: 27239\n",
      "The number of duplicated data in demographic is: 0\n"
     ]
    }
   ],
   "source": [
    "# Check the duplicated data\n",
    "my_data_dup = my_data[my_data.duplicated(keep='first')]\n",
    "print('The number of duplicated data is: %d' % my_data_dup.shape[0])\n",
    "demographic_dup = demographic[demographic.duplicated(keep='first')]\n",
    "print('The number of duplicated data in demographic is: %d' % demographic_dup.shape[0])"
   ]
  },
  {
   "cell_type": "code",
   "execution_count": 10,
   "metadata": {
    "colab": {
     "base_uri": "https://localhost:8080/",
     "height": 51
    },
    "colab_type": "code",
    "id": "pFlQGowuFQoC",
    "outputId": "37fc5516-1a76-40c7-e162-5b8a6496fd68"
   },
   "outputs": [
    {
     "name": "stdout",
     "output_type": "stream",
     "text": [
      "All duplicated data have been dropped\n",
      "The total number of rows: 100471\n"
     ]
    }
   ],
   "source": [
    "# Remove the duplicated data\n",
    "my_data = my_data.drop_duplicates()\n",
    "print('All duplicated data have been dropped')\n",
    "print('The total number of rows: %d' % my_data.shape[0])"
   ]
  },
  {
   "cell_type": "code",
   "execution_count": 11,
   "metadata": {
    "colab": {
     "base_uri": "https://localhost:8080/",
     "height": 275
    },
    "colab_type": "code",
    "id": "ESst14lfxHAw",
    "outputId": "eeaad1c8-376e-40d4-9dc5-20dd0868b4c1"
   },
   "outputs": [
    {
     "data": {
      "text/html": [
       "<div>\n",
       "<style scoped>\n",
       "    .dataframe tbody tr th:only-of-type {\n",
       "        vertical-align: middle;\n",
       "    }\n",
       "\n",
       "    .dataframe tbody tr th {\n",
       "        vertical-align: top;\n",
       "    }\n",
       "\n",
       "    .dataframe thead th {\n",
       "        text-align: right;\n",
       "    }\n",
       "</style>\n",
       "<table border=\"1\" class=\"dataframe\">\n",
       "  <thead>\n",
       "    <tr style=\"text-align: right;\">\n",
       "      <th></th>\n",
       "      <th>alert_escalation_date</th>\n",
       "      <th>alert_id_fk</th>\n",
       "      <th>insert_date</th>\n",
       "      <th>score</th>\n",
       "      <th>status</th>\n",
       "      <th>resolution</th>\n",
       "      <th>owner_name</th>\n",
       "      <th>malicious</th>\n",
       "      <th>employee_id</th>\n",
       "      <th>risk_factor</th>\n",
       "      <th>avg_score</th>\n",
       "      <th>classification</th>\n",
       "      <th>HRU</th>\n",
       "      <th>indicator_pairs</th>\n",
       "      <th>alert_type</th>\n",
       "      <th>State_Name</th>\n",
       "      <th>COUNTRY_CODE</th>\n",
       "      <th>Business_Segment</th>\n",
       "      <th>Function_Group</th>\n",
       "      <th>Career_Band</th>\n",
       "    </tr>\n",
       "  </thead>\n",
       "  <tbody>\n",
       "    <tr>\n",
       "      <th>0</th>\n",
       "      <td>3/26/2018 20:18</td>\n",
       "      <td>319529787</td>\n",
       "      <td>9/29/2017</td>\n",
       "      <td>180</td>\n",
       "      <td>cleared</td>\n",
       "      <td>closed</td>\n",
       "      <td>Senior_Analyst_1</td>\n",
       "      <td>yes</td>\n",
       "      <td>2313834724</td>\n",
       "      <td>1.800</td>\n",
       "      <td>100.000</td>\n",
       "      <td>TP/DE</td>\n",
       "      <td>None</td>\n",
       "      <td>App_1_Box_Aged_Files</td>\n",
       "      <td>Daily_Heat</td>\n",
       "      <td>Ohio</td>\n",
       "      <td>US</td>\n",
       "      <td>Aviation Supply Chain</td>\n",
       "      <td>Production</td>\n",
       "      <td>SPB</td>\n",
       "    </tr>\n",
       "    <tr>\n",
       "      <th>1</th>\n",
       "      <td>3/26/2018 20:18</td>\n",
       "      <td>1393818439</td>\n",
       "      <td>9/29/2017</td>\n",
       "      <td>195</td>\n",
       "      <td>cleared</td>\n",
       "      <td>closed</td>\n",
       "      <td>Senior_Analyst_1</td>\n",
       "      <td>yes</td>\n",
       "      <td>2313834724</td>\n",
       "      <td>1.950</td>\n",
       "      <td>100.000</td>\n",
       "      <td>TP/DE</td>\n",
       "      <td>None</td>\n",
       "      <td>App_1_Box_Aged_Files</td>\n",
       "      <td>Daily_Heat</td>\n",
       "      <td>Ohio</td>\n",
       "      <td>US</td>\n",
       "      <td>Aviation Supply Chain</td>\n",
       "      <td>Production</td>\n",
       "      <td>SPB</td>\n",
       "    </tr>\n",
       "    <tr>\n",
       "      <th>2</th>\n",
       "      <td>3/26/2018 20:18</td>\n",
       "      <td>625554667</td>\n",
       "      <td>9/29/2017</td>\n",
       "      <td>174</td>\n",
       "      <td>cleared</td>\n",
       "      <td>closed</td>\n",
       "      <td>Senior_Analyst_1</td>\n",
       "      <td>yes</td>\n",
       "      <td>2313834724</td>\n",
       "      <td>1.740</td>\n",
       "      <td>100.000</td>\n",
       "      <td>TP/DE</td>\n",
       "      <td>None</td>\n",
       "      <td>App_1_Box_Aged_Files</td>\n",
       "      <td>Daily_Heat</td>\n",
       "      <td>Ohio</td>\n",
       "      <td>US</td>\n",
       "      <td>Aviation Supply Chain</td>\n",
       "      <td>Production</td>\n",
       "      <td>SPB</td>\n",
       "    </tr>\n",
       "    <tr>\n",
       "      <th>3</th>\n",
       "      <td>3/26/2018 20:18</td>\n",
       "      <td>1633242574</td>\n",
       "      <td>9/29/2017</td>\n",
       "      <td>172</td>\n",
       "      <td>cleared</td>\n",
       "      <td>closed</td>\n",
       "      <td>Senior_Analyst_1</td>\n",
       "      <td>yes</td>\n",
       "      <td>13152813815</td>\n",
       "      <td>1.720</td>\n",
       "      <td>100.000</td>\n",
       "      <td>TP/DE</td>\n",
       "      <td>HRU11</td>\n",
       "      <td>App_1_Box_Aged_Files/App_4_Request_Volume_30da...</td>\n",
       "      <td>Daily_Heat</td>\n",
       "      <td>Ohio</td>\n",
       "      <td>US</td>\n",
       "      <td>Aviation Engineering</td>\n",
       "      <td>Production</td>\n",
       "      <td>LPB</td>\n",
       "    </tr>\n",
       "    <tr>\n",
       "      <th>4</th>\n",
       "      <td>3/26/2018 20:21</td>\n",
       "      <td>1025069746</td>\n",
       "      <td>10/19/2017</td>\n",
       "      <td>256</td>\n",
       "      <td>cleared</td>\n",
       "      <td>closed</td>\n",
       "      <td>Senior_Analyst_1</td>\n",
       "      <td>yes</td>\n",
       "      <td>13152813815</td>\n",
       "      <td>2.560</td>\n",
       "      <td>100.000</td>\n",
       "      <td>TP/DE</td>\n",
       "      <td>HRU11</td>\n",
       "      <td>App_1_Box_Aged_Files/App_4_Request_Volume_30da...</td>\n",
       "      <td>Daily_Heat</td>\n",
       "      <td>Ohio</td>\n",
       "      <td>US</td>\n",
       "      <td>Aviation Engineering</td>\n",
       "      <td>Production</td>\n",
       "      <td>LPB</td>\n",
       "    </tr>\n",
       "  </tbody>\n",
       "</table>\n",
       "</div>"
      ],
      "text/plain": [
       "  alert_escalation_date  alert_id_fk insert_date  score   status resolution  \\\n",
       "0       3/26/2018 20:18    319529787   9/29/2017    180  cleared     closed   \n",
       "1       3/26/2018 20:18   1393818439   9/29/2017    195  cleared     closed   \n",
       "2       3/26/2018 20:18    625554667   9/29/2017    174  cleared     closed   \n",
       "3       3/26/2018 20:18   1633242574   9/29/2017    172  cleared     closed   \n",
       "4       3/26/2018 20:21   1025069746  10/19/2017    256  cleared     closed   \n",
       "\n",
       "         owner_name malicious  employee_id  risk_factor  avg_score  \\\n",
       "0  Senior_Analyst_1       yes   2313834724        1.800    100.000   \n",
       "1  Senior_Analyst_1       yes   2313834724        1.950    100.000   \n",
       "2  Senior_Analyst_1       yes   2313834724        1.740    100.000   \n",
       "3  Senior_Analyst_1       yes  13152813815        1.720    100.000   \n",
       "4  Senior_Analyst_1       yes  13152813815        2.560    100.000   \n",
       "\n",
       "  classification    HRU                                    indicator_pairs  \\\n",
       "0          TP/DE   None                               App_1_Box_Aged_Files   \n",
       "1          TP/DE   None                               App_1_Box_Aged_Files   \n",
       "2          TP/DE   None                               App_1_Box_Aged_Files   \n",
       "3          TP/DE  HRU11  App_1_Box_Aged_Files/App_4_Request_Volume_30da...   \n",
       "4          TP/DE  HRU11  App_1_Box_Aged_Files/App_4_Request_Volume_30da...   \n",
       "\n",
       "   alert_type State_Name COUNTRY_CODE       Business_Segment Function_Group  \\\n",
       "0  Daily_Heat       Ohio           US  Aviation Supply Chain     Production   \n",
       "1  Daily_Heat       Ohio           US  Aviation Supply Chain     Production   \n",
       "2  Daily_Heat       Ohio           US  Aviation Supply Chain     Production   \n",
       "3  Daily_Heat       Ohio           US   Aviation Engineering     Production   \n",
       "4  Daily_Heat       Ohio           US   Aviation Engineering     Production   \n",
       "\n",
       "  Career_Band  \n",
       "0         SPB  \n",
       "1         SPB  \n",
       "2         SPB  \n",
       "3         LPB  \n",
       "4         LPB  "
      ]
     },
     "execution_count": 11,
     "metadata": {
      "tags": []
     },
     "output_type": "execute_result"
    }
   ],
   "source": [
    "new_data = pd.merge(my_data, demographic, on = 'employee_id')\n",
    "new_data.head()"
   ]
  },
  {
   "cell_type": "markdown",
   "metadata": {
    "colab_type": "text",
    "id": "sJqzONs-D7co"
   },
   "source": [
    "### Part 1.2: Data cleaning"
   ]
  },
  {
   "cell_type": "markdown",
   "metadata": {
    "colab_type": "text",
    "id": "eQwAsQcsEMM0"
   },
   "source": [
    "Find the missing value"
   ]
  },
  {
   "cell_type": "code",
   "execution_count": 12,
   "metadata": {
    "colab": {
     "base_uri": "https://localhost:8080/",
     "height": 68
    },
    "colab_type": "code",
    "id": "lUe3XnHjD4IN",
    "outputId": "afdc6f0b-f685-4113-fcfc-179df8d76724"
   },
   "outputs": [
    {
     "data": {
      "text/plain": [
       "risk_factor    83306\n",
       "avg_score      83306\n",
       "dtype: int64"
      ]
     },
     "execution_count": 12,
     "metadata": {
      "tags": []
     },
     "output_type": "execute_result"
    }
   ],
   "source": [
    "new_data.isna().sum()[new_data.isna().sum() != 0]"
   ]
  },
  {
   "cell_type": "code",
   "execution_count": 13,
   "metadata": {
    "colab": {
     "base_uri": "https://localhost:8080/",
     "height": 102
    },
    "colab_type": "code",
    "id": "QIKfgeYXyGjq",
    "outputId": "854b0be1-6f6d-469a-a05c-fc14111eed8c"
   },
   "outputs": [
    {
     "data": {
      "text/plain": [
       "Atomic          83306\n",
       "Daily_Heat       6067\n",
       "Monthly_Heat     5544\n",
       "Weekly_Heat      4546\n",
       "Name: alert_type, dtype: int64"
      ]
     },
     "execution_count": 13,
     "metadata": {
      "tags": []
     },
     "output_type": "execute_result"
    }
   ],
   "source": [
    "new_data.alert_type.value_counts()"
   ]
  },
  {
   "cell_type": "markdown",
   "metadata": {
    "colab_type": "text",
    "id": "GNID-HahFSJT"
   },
   "source": [
    "As looking through the dataset, the avg_score and risk_factor will be NA for atomic alerts (alert_type), so we can ues minimal value to fill those missing values"
   ]
  },
  {
   "cell_type": "code",
   "execution_count": 14,
   "metadata": {
    "colab": {
     "base_uri": "https://localhost:8080/",
     "height": 357
    },
    "colab_type": "code",
    "id": "uopb54TTykIL",
    "outputId": "7666469a-2a6c-4926-97ec-2a85bba0b67f"
   },
   "outputs": [
    {
     "name": "stdout",
     "output_type": "stream",
     "text": [
      "count   16914.000\n",
      "mean        9.990\n",
      "std        12.473\n",
      "min         1.700\n",
      "25%         2.927\n",
      "50%         7.931\n",
      "75%        11.567\n",
      "max       629.645\n",
      "Name: risk_factor, dtype: float64 \n",
      "\n",
      "count    16914.000\n",
      "mean       407.927\n",
      "std       1777.487\n",
      "min         90.000\n",
      "25%        100.000\n",
      "50%        110.000\n",
      "75%        245.000\n",
      "max     113727.000\n",
      "Name: avg_score, dtype: float64 \n",
      "\n"
     ]
    }
   ],
   "source": [
    "temp = my_data.loc[my_data['alert_type']!='Atomic']\n",
    "for i in ['risk_factor', 'avg_score']:\n",
    "  print(temp[i].describe(), '\\n')"
   ]
  },
  {
   "cell_type": "code",
   "execution_count": null,
   "metadata": {
    "colab": {},
    "colab_type": "code",
    "id": "eVd1eUGc3aET"
   },
   "outputs": [],
   "source": [
    "#fill the risk_factor and avg_score with min of each feature\n",
    "new_data[['risk_factor']] = new_data[['risk_factor']].fillna(1.7)\n",
    "new_data[['avg_score']] = new_data[['avg_score']].fillna(90)"
   ]
  },
  {
   "cell_type": "code",
   "execution_count": 16,
   "metadata": {
    "colab": {
     "base_uri": "https://localhost:8080/",
     "height": 51
    },
    "colab_type": "code",
    "id": "DxSHZKLiB8qy",
    "outputId": "345d2db7-9e2b-4c77-8d3a-cbf4e61d7fd0"
   },
   "outputs": [
    {
     "name": "stdout",
     "output_type": "stream",
     "text": [
      "Dataset: \n",
      " Dataset size: 99463  number of features: 20  number of classes: 4\n"
     ]
    }
   ],
   "source": [
    "print('Dataset:', '\\n', \"Dataset size: %d  number of features: %d  number of classes: %d\"\n",
    "      % (new_data.shape[0], new_data.shape[1], len(np.unique(new_data['classification']))))"
   ]
  },
  {
   "cell_type": "markdown",
   "metadata": {
    "colab_type": "text",
    "id": "1cPvOlyzMvPT"
   },
   "source": [
    "### Part 1.3:  Understand the features"
   ]
  },
  {
   "cell_type": "markdown",
   "metadata": {
    "colab_type": "text",
    "id": "5LJXbSNafvwv"
   },
   "source": [
    "#### Understand the numerical features"
   ]
  },
  {
   "cell_type": "code",
   "execution_count": 17,
   "metadata": {
    "colab": {
     "base_uri": "https://localhost:8080/",
     "height": 204
    },
    "colab_type": "code",
    "id": "mzxoBQ_qfpgn",
    "outputId": "5200dbd3-7aaf-4af7-88dd-3def0fd4d1b9"
   },
   "outputs": [
    {
     "name": "stdout",
     "output_type": "stream",
     "text": [
      "            score  risk_factor  avg_score\n",
      "count  100471.000    16915.000  16915.000\n",
      "mean      698.643        9.990    407.903\n",
      "std      8622.462       12.473   1777.437\n",
      "min         3.000        1.700      5.000\n",
      "10%        10.000        2.000     90.000\n",
      "25%        10.000        2.926    100.000\n",
      "50%        10.000        7.930    110.000\n",
      "75%        10.000       11.567    245.000\n",
      "95%      1890.000       29.762   1178.000\n",
      "max   1147968.000      629.645 113727.000\n"
     ]
    }
   ],
   "source": [
    "# Understand the numerical feature\n",
    "print(my_data[['score', 'risk_factor', 'avg_score']].describe(percentiles = [.1, .25, .5, .75, .95]))"
   ]
  },
  {
   "cell_type": "code",
   "execution_count": 18,
   "metadata": {
    "colab": {
     "base_uri": "https://localhost:8080/",
     "height": 729
    },
    "colab_type": "code",
    "id": "mMREC-CHL2hS",
    "outputId": "343f0b0a-d5d4-4a77-eca1-e738ecf67034"
   },
   "outputs": [
    {
     "data": {
      "image/png": "[encoded data removed]",
      "text/plain": [
       "<Figure size 720x720 with 6 Axes>"
      ]
     },
     "metadata": {
      "tags": []
     },
     "output_type": "display_data"
    }
   ],
   "source": [
    "# check the feature distribution\n",
    "fig, axes = plt.subplots(3,2,figsize=(10, 10))\n",
    "\n",
    "# Score\n",
    "axes[0, 0].hist(new_data['score'].values, bins=range(0, 1200000, 10000), alpha=0.5, color='r', label='Score', normed=True)\n",
    "axes[0, 0].legend(loc='upper right')\n",
    "axes[0, 0].set_title('Historgrams of score')\n",
    "axes[0, 0].set_xlabel('Score')\n",
    "axes[0, 0].set_ylabel('density')\n",
    "\n",
    "#log scale of score to the large variation\n",
    "axes[0, 1].hist(new_data['score'].values, log=True, bins=range(0, 1200000, 10000), alpha=0.5, color='b', label='log(Score)', normed=True)\n",
    "axes[0, 1].legend(loc='upper right')\n",
    "axes[0, 1].set_title('Historgrams of score')\n",
    "axes[0, 1].set_xlabel('Score')\n",
    "axes[0, 1].set_ylabel('density')\n",
    "\n",
    "\n",
    "# Risk_factor\n",
    "axes[1, 0].hist(new_data['risk_factor'].values, bins=range(0, 700, 100), alpha=0.5, color='r', label='Score', normed=True)\n",
    "axes[1, 0].legend(loc='upper right')\n",
    "axes[1, 0].set_title('Historgrams of risk_factor')\n",
    "axes[1, 0].set_xlabel('risk_factor')\n",
    "axes[1, 0].set_ylabel('density')\n",
    "\n",
    "#log scale of risk_factor to the large variation\n",
    "axes[1, 1].hist(new_data['risk_factor'].values, log=True, bins=range(0, 700, 100), alpha=0.5, color='b', label='log(Score)', normed=True)\n",
    "axes[1, 1].legend(loc='upper right')\n",
    "axes[1, 1].set_title('Historgrams of risk_factor')\n",
    "axes[1, 1].set_xlabel('risk_factor')\n",
    "axes[1, 1].set_ylabel('density')\n",
    "\n",
    "# Avg_score\n",
    "axes[2, 0].hist(new_data['avg_score'].values, bins=range(0, 1200000, 10000), alpha=0.5, color='r', label='Score', normed=True)\n",
    "axes[2, 0].legend(loc='upper right')\n",
    "axes[2, 0].set_title('Historgrams of avg_score')\n",
    "axes[2, 0].set_xlabel('avg_score')\n",
    "axes[2, 0].set_ylabel('density')\n",
    "\n",
    "#log scale of avg_score to the large variation\n",
    "axes[2, 1].hist(new_data['avg_score'].values, log=True, bins=range(0, 1200000, 10000), alpha=0.5, color='b', label='log(Score)', normed=True)\n",
    "axes[2, 1].legend(loc='upper right')\n",
    "axes[2, 1].set_title('Historgrams of avg_score')\n",
    "axes[2, 1].set_xlabel('avg_score')\n",
    "axes[2, 1].set_ylabel('density')\n",
    "\n",
    "plt.tight_layout()\n"
   ]
  },
  {
   "cell_type": "markdown",
   "metadata": {
    "colab_type": "text",
    "id": "Iet8bIabjPxL"
   },
   "source": [
    "#### Numerical features and categorical features"
   ]
  },
  {
   "cell_type": "code",
   "execution_count": 19,
   "metadata": {
    "colab": {
     "base_uri": "https://localhost:8080/",
     "height": 533
    },
    "colab_type": "code",
    "id": "tJ8TpmgJjk2A",
    "outputId": "c09a446e-e24a-400a-8db2-89af1c357505"
   },
   "outputs": [
    {
     "data": {
      "text/html": [
       "<div>\n",
       "<style scoped>\n",
       "    .dataframe tbody tr th:only-of-type {\n",
       "        vertical-align: middle;\n",
       "    }\n",
       "\n",
       "    .dataframe tbody tr th {\n",
       "        vertical-align: top;\n",
       "    }\n",
       "\n",
       "    .dataframe thead th {\n",
       "        text-align: right;\n",
       "    }\n",
       "</style>\n",
       "<table border=\"1\" class=\"dataframe\">\n",
       "  <thead>\n",
       "    <tr style=\"text-align: right;\">\n",
       "      <th></th>\n",
       "      <th>score</th>\n",
       "      <th>risk_factor</th>\n",
       "      <th>avg_score</th>\n",
       "      <th>malicious_ord</th>\n",
       "      <th>classification_ord</th>\n",
       "    </tr>\n",
       "  </thead>\n",
       "  <tbody>\n",
       "    <tr>\n",
       "      <th>score</th>\n",
       "      <td>1.000</td>\n",
       "      <td>0.210</td>\n",
       "      <td>0.893</td>\n",
       "      <td>0.021</td>\n",
       "      <td>0.014</td>\n",
       "    </tr>\n",
       "    <tr>\n",
       "      <th>risk_factor</th>\n",
       "      <td>0.210</td>\n",
       "      <td>1.000</td>\n",
       "      <td>0.090</td>\n",
       "      <td>0.137</td>\n",
       "      <td>0.177</td>\n",
       "    </tr>\n",
       "    <tr>\n",
       "      <th>avg_score</th>\n",
       "      <td>0.893</td>\n",
       "      <td>0.090</td>\n",
       "      <td>1.000</td>\n",
       "      <td>0.024</td>\n",
       "      <td>-0.002</td>\n",
       "    </tr>\n",
       "    <tr>\n",
       "      <th>malicious_ord</th>\n",
       "      <td>0.021</td>\n",
       "      <td>0.137</td>\n",
       "      <td>0.024</td>\n",
       "      <td>1.000</td>\n",
       "      <td>0.087</td>\n",
       "    </tr>\n",
       "    <tr>\n",
       "      <th>classification_ord</th>\n",
       "      <td>0.014</td>\n",
       "      <td>0.177</td>\n",
       "      <td>-0.002</td>\n",
       "      <td>0.087</td>\n",
       "      <td>1.000</td>\n",
       "    </tr>\n",
       "  </tbody>\n",
       "</table>\n",
       "</div>"
      ],
      "text/plain": [
       "                    score  risk_factor  avg_score  malicious_ord  \\\n",
       "score               1.000        0.210      0.893          0.021   \n",
       "risk_factor         0.210        1.000      0.090          0.137   \n",
       "avg_score           0.893        0.090      1.000          0.024   \n",
       "malicious_ord       0.021        0.137      0.024          1.000   \n",
       "classification_ord  0.014        0.177     -0.002          0.087   \n",
       "\n",
       "                    classification_ord  \n",
       "score                            0.014  \n",
       "risk_factor                      0.177  \n",
       "avg_score                       -0.002  \n",
       "malicious_ord                    0.087  \n",
       "classification_ord               1.000  "
      ]
     },
     "execution_count": 19,
     "metadata": {
      "tags": []
     },
     "output_type": "execute_result"
    },
    {
     "data": {
      "image/png": "[encoded data removed]",
      "text/plain": [
       "<Figure size 432x288 with 2 Axes>"
      ]
     },
     "metadata": {
      "tags": []
     },
     "output_type": "display_data"
    }
   ],
   "source": [
    "# corrleation of numerical features\n",
    "## Encoding\n",
    "new_data['malicious_ord'] = new_data.malicious.astype(\"category\").cat.codes\n",
    "new_data['classification_ord'] = np.where(new_data['classification'].isin(['FP', 'TP/DE']), 0, 1)\n",
    "encoding_col = ['malicious', 'classification']\n",
    "new_data = new_data.drop(encoding_col, axis=1)\n",
    "\n",
    "\n",
    "corr = new_data[[\"score\", \"risk_factor\", \"avg_score\", \n",
    "                \"malicious_ord\", \"classification_ord\"]].corr()\n",
    "\n",
    "sns.heatmap(corr, cmap='YlGnBu')\n",
    "corr"
   ]
  },
  {
   "cell_type": "markdown",
   "metadata": {
    "colab_type": "text",
    "id": "6zBKUaH2yiUy"
   },
   "source": [
    "### HRU & Alert_type"
   ]
  },
  {
   "cell_type": "code",
   "execution_count": null,
   "metadata": {
    "colab": {},
    "colab_type": "code",
    "id": "vAkDHNMeMUsI"
   },
   "outputs": [],
   "source": [
    "# plot the number of FP\n",
    "def plot_number(col, rot=-45, num=None):\n",
    "  group_by = pd.DataFrame(new_data.groupby([col])['classification_ord'].sum()).sort_values('classification_ord', ascending=False)\n",
    "  if num:\n",
    "    group_by = group_by[:num-1]\n",
    "    sns.barplot(x=group_by.index, y='classification_ord', data=group_by, palette='Set2')\n",
    "    plt.xticks(rotation=rot)\n",
    "    plt.xlabel(col)\n",
    "    plt.ylabel('The number of FP')\n",
    "    plt.show()\n",
    "  else:\n",
    "    sns.barplot(x=group_by.index, y='classification_ord', data=group_by, palette='Set2')\n",
    "    plt.xticks(rotation=rot)\n",
    "    plt.xlabel(col)\n",
    "    plt.ylabel('The number of FP')\n",
    "    plt.show()\n",
    "\n",
    "# plot the percentage\n",
    "def plot_percentage(col, rot=-45, num=None):\n",
    "  group_by = pd.DataFrame(new_data.groupby([col])['classification_ord'].sum()).sort_index()\n",
    "  counts = pd.DataFrame(new_data[col].value_counts()).sort_index()\n",
    "  total = pd.merge(counts, group_by, on=counts.index)\n",
    "  total['percentage'] = total.apply(lambda x: x['classification_ord'] / x[col], axis=1)\n",
    "  total = total.sort_values('percentage', ascending=False)\n",
    "  if num:\n",
    "    total = total[:num-1]\n",
    "    sns.barplot(x='key_0', y='percentage', data=total, palette='Set2')\n",
    "    plt.xticks(rotation=rot)\n",
    "    plt.xlabel(col)\n",
    "    plt.ylabel('The Percentage of FP')\n",
    "    plt.show()\n",
    "  else:\n",
    "    sns.barplot(x='key_0', y='percentage', data=total, palette='Set2')\n",
    "    plt.xticks(rotation=rot)\n",
    "    plt.xlabel(col)\n",
    "    plt.ylabel('The Percentage of FP')\n",
    "    plt.show()"
   ]
  },
  {
   "cell_type": "code",
   "execution_count": 21,
   "metadata": {
    "colab": {
     "base_uri": "https://localhost:8080/",
     "height": 591
    },
    "colab_type": "code",
    "id": "83PHLrrkM5me",
    "outputId": "126945d9-9426-4a10-cf62-a2a4e04d2441"
   },
   "outputs": [
    {
     "data": {
      "image/png": "[encoded data removed]",
      "text/plain": [
       "<Figure size 432x288 with 1 Axes>"
      ]
     },
     "metadata": {
      "tags": []
     },
     "output_type": "display_data"
    },
    {
     "data": {
      "image/png": "[encoded data removed]",
      "text/plain": [
       "<Figure size 432x288 with 1 Axes>"
      ]
     },
     "metadata": {
      "tags": []
     },
     "output_type": "display_data"
    }
   ],
   "source": [
    "plot_number('HRU')\n",
    "plot_percentage('HRU')"
   ]
  },
  {
   "cell_type": "code",
   "execution_count": 22,
   "metadata": {
    "colab": {
     "base_uri": "https://localhost:8080/",
     "height": 643
    },
    "colab_type": "code",
    "id": "lsJb5jmdJxM1",
    "outputId": "75c64658-74ee-4a3b-eec3-b80f3652f8b5"
   },
   "outputs": [
    {
     "data": {
      "image/png": "[encoded data removed]",
      "text/plain": [
       "<Figure size 432x288 with 1 Axes>"
      ]
     },
     "metadata": {
      "tags": []
     },
     "output_type": "display_data"
    },
    {
     "data": {
      "image/png": "[encoded data removed]",
      "text/plain": [
       "<Figure size 432x288 with 1 Axes>"
      ]
     },
     "metadata": {
      "tags": []
     },
     "output_type": "display_data"
    }
   ],
   "source": [
    "# alert type\n",
    "plot_number('alert_type')\n",
    "plot_percentage('alert_type')"
   ]
  },
  {
   "cell_type": "markdown",
   "metadata": {
    "colab_type": "text",
    "id": "zIpwhJLJyZmE"
   },
   "source": [
    "### Country & State"
   ]
  },
  {
   "cell_type": "code",
   "execution_count": 23,
   "metadata": {
    "colab": {
     "base_uri": "https://localhost:8080/",
     "height": 567
    },
    "colab_type": "code",
    "id": "ftbTUSn7kiRU",
    "outputId": "adbc6489-2720-4c2d-e59c-ffb8ff79c47c"
   },
   "outputs": [
    {
     "data": {
      "image/png": "[encoded data removed]",
      "text/plain": [
       "<Figure size 432x288 with 1 Axes>"
      ]
     },
     "metadata": {
      "tags": []
     },
     "output_type": "display_data"
    },
    {
     "data": {
      "image/png": "[encoded data removed]",
      "text/plain": [
       "<Figure size 432x288 with 1 Axes>"
      ]
     },
     "metadata": {
      "tags": []
     },
     "output_type": "display_data"
    }
   ],
   "source": [
    "plot_number('COUNTRY_CODE')\n",
    "plot_percentage('COUNTRY_CODE')\n"
   ]
  },
  {
   "cell_type": "code",
   "execution_count": 24,
   "metadata": {
    "colab": {
     "base_uri": "https://localhost:8080/",
     "height": 684
    },
    "colab_type": "code",
    "id": "vL6G66rcWVjR",
    "outputId": "7dd287e5-63d9-41a5-d46f-f252ef5df767"
   },
   "outputs": [
    {
     "data": {
      "image/png": "[encoded data removed]",
      "text/plain": [
       "<Figure size 432x288 with 1 Axes>"
      ]
     },
     "metadata": {
      "tags": []
     },
     "output_type": "display_data"
    },
    {
     "data": {
      "image/png": "[encoded data removed]",
      "text/plain": [
       "<Figure size 432x288 with 1 Axes>"
      ]
     },
     "metadata": {
      "tags": []
     },
     "output_type": "display_data"
    }
   ],
   "source": [
    "# State\n",
    "plot_number('State_Name', -90, 20)\n",
    "plot_percentage('State_Name', -90, 20)"
   ]
  },
  {
   "cell_type": "markdown",
   "metadata": {
    "colab_type": "text",
    "id": "XUeYnY3Dyc9V"
   },
   "source": [
    "### Business Segment"
   ]
  },
  {
   "cell_type": "code",
   "execution_count": 25,
   "metadata": {
    "colab": {
     "base_uri": "https://localhost:8080/",
     "height": 1125
    },
    "colab_type": "code",
    "id": "d7zd3RWcLKDq",
    "outputId": "fa880ebc-3e04-4edd-c8a1-c639fac9c629"
   },
   "outputs": [
    {
     "data": {
      "image/png": "[encoded data removed]",
      "text/plain": [
       "<Figure size 432x288 with 1 Axes>"
      ]
     },
     "metadata": {
      "tags": []
     },
     "output_type": "display_data"
    },
    {
     "data": {
      "image/png": "[encoded data removed]",
      "text/plain": [
       "<Figure size 432x288 with 1 Axes>"
      ]
     },
     "metadata": {
      "tags": []
     },
     "output_type": "display_data"
    }
   ],
   "source": [
    "plot_number('Business_Segment', -90)\n",
    "plot_percentage('Business_Segment', -90)"
   ]
  },
  {
   "cell_type": "code",
   "execution_count": 26,
   "metadata": {
    "colab": {
     "base_uri": "https://localhost:8080/",
     "height": 80
    },
    "colab_type": "code",
    "id": "8r6Dq9nS-z08",
    "outputId": "d3159326-9fcd-4331-e2fd-219a57a762bf"
   },
   "outputs": [
    {
     "data": {
      "text/html": [
       "<div>\n",
       "<style scoped>\n",
       "    .dataframe tbody tr th:only-of-type {\n",
       "        vertical-align: middle;\n",
       "    }\n",
       "\n",
       "    .dataframe tbody tr th {\n",
       "        vertical-align: top;\n",
       "    }\n",
       "\n",
       "    .dataframe thead th {\n",
       "        text-align: right;\n",
       "    }\n",
       "</style>\n",
       "<table border=\"1\" class=\"dataframe\">\n",
       "  <thead>\n",
       "    <tr style=\"text-align: right;\">\n",
       "      <th></th>\n",
       "      <th>key_0</th>\n",
       "      <th>Business_Segment</th>\n",
       "      <th>classification_ord</th>\n",
       "      <th>percentage</th>\n",
       "    </tr>\n",
       "  </thead>\n",
       "  <tbody>\n",
       "    <tr>\n",
       "      <th>2</th>\n",
       "      <td>Aviation Aeroderivatives</td>\n",
       "      <td>467</td>\n",
       "      <td>467</td>\n",
       "      <td>1.000</td>\n",
       "    </tr>\n",
       "  </tbody>\n",
       "</table>\n",
       "</div>"
      ],
      "text/plain": [
       "                      key_0  Business_Segment  classification_ord  percentage\n",
       "2  Aviation Aeroderivatives               467                 467       1.000"
      ]
     },
     "execution_count": 26,
     "metadata": {
      "tags": []
     },
     "output_type": "execute_result"
    }
   ],
   "source": [
    "group_by_bs = pd.DataFrame(new_data.groupby(['Business_Segment'])['classification_ord'].sum()).sort_index()\n",
    "counts = pd.DataFrame(new_data['Business_Segment'].value_counts()).sort_index()\n",
    "total = pd.merge(counts, group_by_bs, on=counts.index)\n",
    "total['percentage'] = total.apply(lambda x: x['classification_ord'] / x['Business_Segment'], axis=1)\n",
    "total = total.sort_values('percentage', ascending=False)\n",
    "total.loc[total['percentage'] >= 0.5]"
   ]
  },
  {
   "cell_type": "markdown",
   "metadata": {
    "colab_type": "text",
    "id": "Z3wTlJbcy_Oz"
   },
   "source": [
    "### Function_group & Career_band"
   ]
  },
  {
   "cell_type": "code",
   "execution_count": 27,
   "metadata": {
    "colab": {
     "base_uri": "https://localhost:8080/",
     "height": 629
    },
    "colab_type": "code",
    "id": "STAtR5RTy-QK",
    "outputId": "5f746b52-1a0c-4233-b666-1038ee31aed2"
   },
   "outputs": [
    {
     "data": {
      "image/png": "[encoded data removed]",
      "text/plain": [
       "<Figure size 432x288 with 1 Axes>"
      ]
     },
     "metadata": {
      "tags": []
     },
     "output_type": "display_data"
    },
    {
     "data": {
      "image/png": "[encoded data removed]",
      "text/plain": [
       "<Figure size 432x288 with 1 Axes>"
      ]
     },
     "metadata": {
      "tags": []
     },
     "output_type": "display_data"
    }
   ],
   "source": [
    "plot_number('Function_Group')\n",
    "plot_percentage('Function_Group')"
   ]
  },
  {
   "cell_type": "code",
   "execution_count": 28,
   "metadata": {
    "colab": {
     "base_uri": "https://localhost:8080/",
     "height": 605
    },
    "colab_type": "code",
    "id": "to1kg3-LPE10",
    "outputId": "8ab4107a-d8d2-4074-eeaf-11a2b71e7e1d"
   },
   "outputs": [
    {
     "data": {
      "image/png": "[encoded data removed]",
      "text/plain": [
       "<Figure size 432x288 with 1 Axes>"
      ]
     },
     "metadata": {
      "tags": []
     },
     "output_type": "display_data"
    },
    {
     "data": {
      "image/png": "[encoded data removed]",
      "text/plain": [
       "<Figure size 432x288 with 1 Axes>"
      ]
     },
     "metadata": {
      "tags": []
     },
     "output_type": "display_data"
    }
   ],
   "source": [
    "plot_number('Career_Band')\n",
    "plot_percentage('Career_Band')"
   ]
  },
  {
   "cell_type": "markdown",
   "metadata": {
    "colab_type": "text",
    "id": "Q3gHPR_mbX89"
   },
   "source": [
    "HB = Hourly Band\n",
    "\n",
    "APB = Associate Professional Band\n",
    "\n",
    "PB = Professional Band\n",
    "\n",
    "LPB = Lead Professional Band\n",
    "\n",
    "SPB = Senior Professional Band\n",
    "\n",
    "EB = Executive Band\n",
    "\n",
    "Salary differs so as benififits according to your band.\n",
    "\n",
    "GE offers good salary packages and benefits."
   ]
  },
  {
   "cell_type": "markdown",
   "metadata": {
    "colab_type": "text",
    "id": "RYx2RYPiPNuo"
   },
   "source": [
    "### Employee_id"
   ]
  },
  {
   "cell_type": "code",
   "execution_count": 29,
   "metadata": {
    "colab": {
     "base_uri": "https://localhost:8080/",
     "height": 343
    },
    "colab_type": "code",
    "id": "ZTuHMXapPNPV",
    "outputId": "26b893a2-c2c8-47fd-bd50-901dba8acba7"
   },
   "outputs": [
    {
     "data": {
      "image/png": "[encoded data removed]",
      "text/plain": [
       "<Figure size 432x288 with 1 Axes>"
      ]
     },
     "metadata": {
      "tags": []
     },
     "output_type": "display_data"
    }
   ],
   "source": [
    "plot_number('employee_id', -90, 10)"
   ]
  },
  {
   "cell_type": "markdown",
   "metadata": {
    "colab_type": "text",
    "id": "IIAUYQGVuCc5"
   },
   "source": [
    "# Part 2: Feature Preprocessing"
   ]
  },
  {
   "cell_type": "code",
   "execution_count": 30,
   "metadata": {
    "colab": {
     "base_uri": "https://localhost:8080/",
     "height": 374
    },
    "colab_type": "code",
    "id": "vyQSJKD4zeQM",
    "outputId": "98d336e0-ae1a-4966-859d-680509a1990a"
   },
   "outputs": [
    {
     "data": {
      "text/plain": [
       "alert_escalation_date     object\n",
       "alert_id_fk                int64\n",
       "insert_date               object\n",
       "score                      int64\n",
       "status                    object\n",
       "resolution                object\n",
       "owner_name                object\n",
       "employee_id                int64\n",
       "risk_factor              float64\n",
       "avg_score                float64\n",
       "HRU                       object\n",
       "indicator_pairs           object\n",
       "alert_type                object\n",
       "State_Name                object\n",
       "COUNTRY_CODE              object\n",
       "Business_Segment          object\n",
       "Function_Group            object\n",
       "Career_Band               object\n",
       "malicious_ord               int8\n",
       "classification_ord         int64\n",
       "dtype: object"
      ]
     },
     "execution_count": 30,
     "metadata": {
      "tags": []
     },
     "output_type": "execute_result"
    }
   ],
   "source": [
    "new_data.dtypes"
   ]
  },
  {
   "cell_type": "code",
   "execution_count": null,
   "metadata": {
    "colab": {},
    "colab_type": "code",
    "id": "B7YBEWJXoUjK"
   },
   "outputs": [],
   "source": [
    "# Drop some useless columns\n",
    "to_drop = ['employee_id', 'alert_escalation_date', 'alert_id_fk', 'insert_date',\n",
    "           'status', 'resolution', 'owner_name', 'avg_score',\n",
    "]\n",
    "my_data_prep = new_data.drop(to_drop, axis=1)"
   ]
  },
  {
   "cell_type": "code",
   "execution_count": 32,
   "metadata": {
    "colab": {
     "base_uri": "https://localhost:8080/",
     "height": 238
    },
    "colab_type": "code",
    "id": "UP_OxdzXECXg",
    "outputId": "ee573654-7e30-4b37-def4-6a237ea9c9b6"
   },
   "outputs": [
    {
     "data": {
      "text/plain": [
       "score                   int64\n",
       "risk_factor           float64\n",
       "HRU                    object\n",
       "indicator_pairs        object\n",
       "alert_type             object\n",
       "State_Name             object\n",
       "COUNTRY_CODE           object\n",
       "Business_Segment       object\n",
       "Function_Group         object\n",
       "Career_Band            object\n",
       "malicious_ord            int8\n",
       "classification_ord      int64\n",
       "dtype: object"
      ]
     },
     "execution_count": 32,
     "metadata": {
      "tags": []
     },
     "output_type": "execute_result"
    }
   ],
   "source": [
    "my_data_prep.dtypes"
   ]
  },
  {
   "cell_type": "code",
   "execution_count": null,
   "metadata": {
    "colab": {},
    "colab_type": "code",
    "id": "cISO_tU6gdGd"
   },
   "outputs": [],
   "source": [
    "# Covert indiactor_pairs into dummy variables\n",
    "indicators = df_indicator.unique().tolist()\n",
    "d_indicators = pd.DataFrame()\n",
    "for ind in indicators:\n",
    "  ind_list = []\n",
    "  for i in range(my_data_prep.shape[0]):\n",
    "    if ind in my_data_prep['indicator_pairs'].iloc[i]:\n",
    "      ind_list.append(1)\n",
    "    else:\n",
    "      ind_list.append(0)\n",
    "  d_indicators[ind] = pd.Series(ind_list).values\n"
   ]
  },
  {
   "cell_type": "code",
   "execution_count": null,
   "metadata": {
    "colab": {},
    "colab_type": "code",
    "id": "C7eq5RBzus4e"
   },
   "outputs": [],
   "source": [
    "new_data = my_data_prep.drop(['indicator_pairs'], axis=1)\n",
    "X = new_data.drop(\"classification_ord\", axis=1)\n",
    "y = new_data['classification_ord']"
   ]
  },
  {
   "cell_type": "code",
   "execution_count": null,
   "metadata": {
    "colab": {},
    "colab_type": "code",
    "id": "2ZXJT1FlDRvh"
   },
   "outputs": [],
   "source": [
    "X = pd.get_dummies(X, columns=['HRU', 'alert_type',\n",
    "       'State_Name', 'COUNTRY_CODE', 'Business_Segment', 'Function_Group',\n",
    "       'Career_Band'])\n"
   ]
  },
  {
   "cell_type": "code",
   "execution_count": null,
   "metadata": {
    "colab": {},
    "colab_type": "code",
    "id": "TGdJ3HoelCTu"
   },
   "outputs": [],
   "source": [
    "# scaling and encoding\n",
    "from sklearn.compose import make_column_transformer, ColumnTransformer\n",
    "from sklearn.preprocessing import OneHotEncoder, StandardScaler\n",
    "\n",
    "numeric = ['score']\n",
    "ct = make_column_transformer((StandardScaler(), numeric))"
   ]
  },
  {
   "cell_type": "code",
   "execution_count": null,
   "metadata": {
    "colab": {},
    "colab_type": "code",
    "id": "pER2DV_0rE89"
   },
   "outputs": [],
   "source": [
    "scaler_score = pd.DataFrame(ct.fit_transform(X), columns=['score'])"
   ]
  },
  {
   "cell_type": "code",
   "execution_count": 38,
   "metadata": {
    "colab": {
     "base_uri": "https://localhost:8080/",
     "height": 275
    },
    "colab_type": "code",
    "id": "IfJNsZ-P0qcq",
    "outputId": "0ac2f10c-1b46-4aa7-8d03-449d1aae8353"
   },
   "outputs": [
    {
     "data": {
      "text/html": [
       "<div>\n",
       "<style scoped>\n",
       "    .dataframe tbody tr th:only-of-type {\n",
       "        vertical-align: middle;\n",
       "    }\n",
       "\n",
       "    .dataframe tbody tr th {\n",
       "        vertical-align: top;\n",
       "    }\n",
       "\n",
       "    .dataframe thead th {\n",
       "        text-align: right;\n",
       "    }\n",
       "</style>\n",
       "<table border=\"1\" class=\"dataframe\">\n",
       "  <thead>\n",
       "    <tr style=\"text-align: right;\">\n",
       "      <th></th>\n",
       "      <th>score</th>\n",
       "      <th>risk_factor</th>\n",
       "      <th>malicious_ord</th>\n",
       "      <th>HRU_HRU</th>\n",
       "      <th>HRU_HRU11</th>\n",
       "      <th>HRU_HRU12</th>\n",
       "      <th>HRU_HRU13</th>\n",
       "      <th>HRU_HRU18</th>\n",
       "      <th>HRU_HRU19</th>\n",
       "      <th>HRU_HRU2</th>\n",
       "      <th>HRU_HRU3</th>\n",
       "      <th>HRU_HRU5</th>\n",
       "      <th>HRU_HRU6</th>\n",
       "      <th>HRU_HRU7</th>\n",
       "      <th>HRU_None</th>\n",
       "      <th>alert_type_Atomic</th>\n",
       "      <th>alert_type_Daily_Heat</th>\n",
       "      <th>alert_type_Monthly_Heat</th>\n",
       "      <th>alert_type_Weekly_Heat</th>\n",
       "      <th>State_Name_Abu Dhabi</th>\n",
       "      <th>State_Name_Addis Ababa</th>\n",
       "      <th>State_Name_Alabama</th>\n",
       "      <th>State_Name_Alberta</th>\n",
       "      <th>State_Name_Arizona</th>\n",
       "      <th>State_Name_Bavaria</th>\n",
       "      <th>State_Name_Beijing</th>\n",
       "      <th>State_Name_Brindisi</th>\n",
       "      <th>State_Name_California</th>\n",
       "      <th>State_Name_Ceara</th>\n",
       "      <th>State_Name_Central Singapore</th>\n",
       "      <th>State_Name_Ciudad Autonoma de Buenos Aires</th>\n",
       "      <th>State_Name_Coahuila</th>\n",
       "      <th>State_Name_Colorado</th>\n",
       "      <th>State_Name_Connecticut</th>\n",
       "      <th>State_Name_Delaware</th>\n",
       "      <th>State_Name_District Of Columbia</th>\n",
       "      <th>State_Name_Dubai</th>\n",
       "      <th>State_Name_England</th>\n",
       "      <th>State_Name_Florida</th>\n",
       "      <th>State_Name_Georgia</th>\n",
       "      <th>State_Name_Guangdong</th>\n",
       "      <th>State_Name_Hainan</th>\n",
       "      <th>State_Name_Haryana</th>\n",
       "      <th>State_Name_Ile-de-France</th>\n",
       "      <th>State_Name_Illinois</th>\n",
       "      <th>State_Name_Indiana</th>\n",
       "      <th>State_Name_Iowa</th>\n",
       "      <th>State_Name_Jiangsu</th>\n",
       "      <th>State_Name_Kansas</th>\n",
       "      <th>State_Name_Karnataka</th>\n",
       "      <th>State_Name_Kentucky</th>\n",
       "      <th>State_Name_Kocaeli</th>\n",
       "      <th>State_Name_Louisiana</th>\n",
       "      <th>State_Name_Lower Silesian</th>\n",
       "      <th>State_Name_Maharashtra</th>\n",
       "      <th>State_Name_Maine</th>\n",
       "      <th>State_Name_Maryland</th>\n",
       "      <th>State_Name_Masovian</th>\n",
       "      <th>State_Name_Massachusetts</th>\n",
       "      <th>State_Name_Michigan</th>\n",
       "      <th>State_Name_Mississippi</th>\n",
       "      <th>State_Name_New Hampshire</th>\n",
       "      <th>State_Name_New South Wales</th>\n",
       "      <th>State_Name_New York</th>\n",
       "      <th>State_Name_No_Data</th>\n",
       "      <th>State_Name_North Carolina</th>\n",
       "      <th>State_Name_Nova Scotia</th>\n",
       "      <th>State_Name_Ohio</th>\n",
       "      <th>State_Name_Oklahoma</th>\n",
       "      <th>State_Name_Pennsylvania</th>\n",
       "      <th>State_Name_Pest</th>\n",
       "      <th>State_Name_Prague</th>\n",
       "      <th>State_Name_Quebec</th>\n",
       "      <th>State_Name_Queensland</th>\n",
       "      <th>State_Name_Queretaro</th>\n",
       "      <th>State_Name_Rio de Janeiro</th>\n",
       "      <th>State_Name_Sao Paulo</th>\n",
       "      <th>State_Name_Scotland</th>\n",
       "      <th>State_Name_Selangor</th>\n",
       "      <th>State_Name_Shaanxi</th>\n",
       "      <th>State_Name_Shandong</th>\n",
       "      <th>State_Name_Shanghai</th>\n",
       "      <th>State_Name_Silesian</th>\n",
       "      <th>State_Name_South Carolina</th>\n",
       "      <th>State_Name_Taoyuan</th>\n",
       "      <th>State_Name_Texas</th>\n",
       "      <th>State_Name_Tokyo</th>\n",
       "      <th>State_Name_Turin</th>\n",
       "      <th>State_Name_Vermont</th>\n",
       "      <th>State_Name_Victoria</th>\n",
       "      <th>State_Name_Virginia</th>\n",
       "      <th>State_Name_Wales</th>\n",
       "      <th>State_Name_Washington</th>\n",
       "      <th>COUNTRY_CODE_AE</th>\n",
       "      <th>COUNTRY_CODE_AR</th>\n",
       "      <th>COUNTRY_CODE_AU</th>\n",
       "      <th>COUNTRY_CODE_BR</th>\n",
       "      <th>COUNTRY_CODE_CA</th>\n",
       "      <th>COUNTRY_CODE_CN</th>\n",
       "      <th>COUNTRY_CODE_CZ</th>\n",
       "      <th>COUNTRY_CODE_DE</th>\n",
       "      <th>COUNTRY_CODE_ET</th>\n",
       "      <th>COUNTRY_CODE_FR</th>\n",
       "      <th>COUNTRY_CODE_GB</th>\n",
       "      <th>COUNTRY_CODE_HU</th>\n",
       "      <th>COUNTRY_CODE_IN</th>\n",
       "      <th>COUNTRY_CODE_IT</th>\n",
       "      <th>COUNTRY_CODE_JP</th>\n",
       "      <th>COUNTRY_CODE_MX</th>\n",
       "      <th>COUNTRY_CODE_MY</th>\n",
       "      <th>COUNTRY_CODE_PL</th>\n",
       "      <th>COUNTRY_CODE_SG</th>\n",
       "      <th>COUNTRY_CODE_TR</th>\n",
       "      <th>COUNTRY_CODE_TW</th>\n",
       "      <th>COUNTRY_CODE_US</th>\n",
       "      <th>Business_Segment_Aviation</th>\n",
       "      <th>Business_Segment_Aviation Additive</th>\n",
       "      <th>Business_Segment_Aviation Aeroderivatives</th>\n",
       "      <th>Business_Segment_Aviation AvioAero</th>\n",
       "      <th>Business_Segment_Aviation Avionics &amp; Digital Systems</th>\n",
       "      <th>Business_Segment_Aviation Business &amp; General Aviation &amp; Integrated Systems</th>\n",
       "      <th>Business_Segment_Aviation China</th>\n",
       "      <th>Business_Segment_Aviation Commercial Engines</th>\n",
       "      <th>Business_Segment_Aviation Communications &amp; GE Advantage</th>\n",
       "      <th>Business_Segment_Aviation Digital</th>\n",
       "      <th>Business_Segment_Aviation Digital League</th>\n",
       "      <th>Business_Segment_Aviation Engineering</th>\n",
       "      <th>Business_Segment_Aviation Finance</th>\n",
       "      <th>Business_Segment_Aviation Headquarters</th>\n",
       "      <th>Business_Segment_Aviation Human Resources</th>\n",
       "      <th>Business_Segment_Aviation Legal &amp; Business Development</th>\n",
       "      <th>Business_Segment_Aviation Military Systems</th>\n",
       "      <th>Business_Segment_Aviation Sales &amp; Marketing</th>\n",
       "      <th>Business_Segment_Aviation Services</th>\n",
       "      <th>Business_Segment_Aviation Supply Chain</th>\n",
       "      <th>Business_Segment_Digital Technology</th>\n",
       "      <th>Function_Group_Commercial</th>\n",
       "      <th>Function_Group_Enabling</th>\n",
       "      <th>Function_Group_Production</th>\n",
       "      <th>Career_Band_EB</th>\n",
       "      <th>Career_Band_HRLY</th>\n",
       "      <th>Career_Band_LPB</th>\n",
       "      <th>Career_Band_LTB</th>\n",
       "      <th>Career_Band_No_Data</th>\n",
       "      <th>Career_Band_OTHSAL</th>\n",
       "      <th>Career_Band_PB</th>\n",
       "      <th>Career_Band_SEB</th>\n",
       "      <th>Career_Band_SPB</th>\n",
       "    </tr>\n",
       "  </thead>\n",
       "  <tbody>\n",
       "    <tr>\n",
       "      <th>0</th>\n",
       "      <td>-0.054</td>\n",
       "      <td>1.800</td>\n",
       "      <td>1</td>\n",
       "      <td>0</td>\n",
       "      <td>0</td>\n",
       "      <td>0</td>\n",
       "      <td>0</td>\n",
       "      <td>0</td>\n",
       "      <td>0</td>\n",
       "      <td>0</td>\n",
       "      <td>0</td>\n",
       "      <td>0</td>\n",
       "      <td>0</td>\n",
       "      <td>0</td>\n",
       "      <td>1</td>\n",
       "      <td>0</td>\n",
       "      <td>1</td>\n",
       "      <td>0</td>\n",
       "      <td>0</td>\n",
       "      <td>0</td>\n",
       "      <td>0</td>\n",
       "      <td>0</td>\n",
       "      <td>0</td>\n",
       "      <td>0</td>\n",
       "      <td>0</td>\n",
       "      <td>0</td>\n",
       "      <td>0</td>\n",
       "      <td>0</td>\n",
       "      <td>0</td>\n",
       "      <td>0</td>\n",
       "      <td>0</td>\n",
       "      <td>0</td>\n",
       "      <td>0</td>\n",
       "      <td>0</td>\n",
       "      <td>0</td>\n",
       "      <td>0</td>\n",
       "      <td>0</td>\n",
       "      <td>0</td>\n",
       "      <td>0</td>\n",
       "      <td>0</td>\n",
       "      <td>0</td>\n",
       "      <td>0</td>\n",
       "      <td>0</td>\n",
       "      <td>0</td>\n",
       "      <td>0</td>\n",
       "      <td>0</td>\n",
       "      <td>0</td>\n",
       "      <td>0</td>\n",
       "      <td>0</td>\n",
       "      <td>0</td>\n",
       "      <td>0</td>\n",
       "      <td>0</td>\n",
       "      <td>0</td>\n",
       "      <td>0</td>\n",
       "      <td>0</td>\n",
       "      <td>0</td>\n",
       "      <td>0</td>\n",
       "      <td>0</td>\n",
       "      <td>0</td>\n",
       "      <td>0</td>\n",
       "      <td>0</td>\n",
       "      <td>0</td>\n",
       "      <td>0</td>\n",
       "      <td>0</td>\n",
       "      <td>0</td>\n",
       "      <td>0</td>\n",
       "      <td>0</td>\n",
       "      <td>1</td>\n",
       "      <td>0</td>\n",
       "      <td>0</td>\n",
       "      <td>0</td>\n",
       "      <td>0</td>\n",
       "      <td>0</td>\n",
       "      <td>0</td>\n",
       "      <td>0</td>\n",
       "      <td>0</td>\n",
       "      <td>0</td>\n",
       "      <td>0</td>\n",
       "      <td>0</td>\n",
       "      <td>0</td>\n",
       "      <td>0</td>\n",
       "      <td>0</td>\n",
       "      <td>0</td>\n",
       "      <td>0</td>\n",
       "      <td>0</td>\n",
       "      <td>0</td>\n",
       "      <td>0</td>\n",
       "      <td>0</td>\n",
       "      <td>0</td>\n",
       "      <td>0</td>\n",
       "      <td>0</td>\n",
       "      <td>0</td>\n",
       "      <td>0</td>\n",
       "      <td>0</td>\n",
       "      <td>0</td>\n",
       "      <td>0</td>\n",
       "      <td>0</td>\n",
       "      <td>0</td>\n",
       "      <td>0</td>\n",
       "      <td>0</td>\n",
       "      <td>0</td>\n",
       "      <td>0</td>\n",
       "      <td>0</td>\n",
       "      <td>0</td>\n",
       "      <td>0</td>\n",
       "      <td>0</td>\n",
       "      <td>0</td>\n",
       "      <td>0</td>\n",
       "      <td>0</td>\n",
       "      <td>0</td>\n",
       "      <td>0</td>\n",
       "      <td>0</td>\n",
       "      <td>0</td>\n",
       "      <td>0</td>\n",
       "      <td>1</td>\n",
       "      <td>0</td>\n",
       "      <td>0</td>\n",
       "      <td>0</td>\n",
       "      <td>0</td>\n",
       "      <td>0</td>\n",
       "      <td>0</td>\n",
       "      <td>0</td>\n",
       "      <td>0</td>\n",
       "      <td>0</td>\n",
       "      <td>0</td>\n",
       "      <td>0</td>\n",
       "      <td>0</td>\n",
       "      <td>0</td>\n",
       "      <td>0</td>\n",
       "      <td>0</td>\n",
       "      <td>0</td>\n",
       "      <td>0</td>\n",
       "      <td>0</td>\n",
       "      <td>0</td>\n",
       "      <td>1</td>\n",
       "      <td>0</td>\n",
       "      <td>0</td>\n",
       "      <td>0</td>\n",
       "      <td>1</td>\n",
       "      <td>0</td>\n",
       "      <td>0</td>\n",
       "      <td>0</td>\n",
       "      <td>0</td>\n",
       "      <td>0</td>\n",
       "      <td>0</td>\n",
       "      <td>0</td>\n",
       "      <td>0</td>\n",
       "      <td>1</td>\n",
       "    </tr>\n",
       "    <tr>\n",
       "      <th>1</th>\n",
       "      <td>-0.052</td>\n",
       "      <td>1.950</td>\n",
       "      <td>1</td>\n",
       "      <td>0</td>\n",
       "      <td>0</td>\n",
       "      <td>0</td>\n",
       "      <td>0</td>\n",
       "      <td>0</td>\n",
       "      <td>0</td>\n",
       "      <td>0</td>\n",
       "      <td>0</td>\n",
       "      <td>0</td>\n",
       "      <td>0</td>\n",
       "      <td>0</td>\n",
       "      <td>1</td>\n",
       "      <td>0</td>\n",
       "      <td>1</td>\n",
       "      <td>0</td>\n",
       "      <td>0</td>\n",
       "      <td>0</td>\n",
       "      <td>0</td>\n",
       "      <td>0</td>\n",
       "      <td>0</td>\n",
       "      <td>0</td>\n",
       "      <td>0</td>\n",
       "      <td>0</td>\n",
       "      <td>0</td>\n",
       "      <td>0</td>\n",
       "      <td>0</td>\n",
       "      <td>0</td>\n",
       "      <td>0</td>\n",
       "      <td>0</td>\n",
       "      <td>0</td>\n",
       "      <td>0</td>\n",
       "      <td>0</td>\n",
       "      <td>0</td>\n",
       "      <td>0</td>\n",
       "      <td>0</td>\n",
       "      <td>0</td>\n",
       "      <td>0</td>\n",
       "      <td>0</td>\n",
       "      <td>0</td>\n",
       "      <td>0</td>\n",
       "      <td>0</td>\n",
       "      <td>0</td>\n",
       "      <td>0</td>\n",
       "      <td>0</td>\n",
       "      <td>0</td>\n",
       "      <td>0</td>\n",
       "      <td>0</td>\n",
       "      <td>0</td>\n",
       "      <td>0</td>\n",
       "      <td>0</td>\n",
       "      <td>0</td>\n",
       "      <td>0</td>\n",
       "      <td>0</td>\n",
       "      <td>0</td>\n",
       "      <td>0</td>\n",
       "      <td>0</td>\n",
       "      <td>0</td>\n",
       "      <td>0</td>\n",
       "      <td>0</td>\n",
       "      <td>0</td>\n",
       "      <td>0</td>\n",
       "      <td>0</td>\n",
       "      <td>0</td>\n",
       "      <td>0</td>\n",
       "      <td>1</td>\n",
       "      <td>0</td>\n",
       "      <td>0</td>\n",
       "      <td>0</td>\n",
       "      <td>0</td>\n",
       "      <td>0</td>\n",
       "      <td>0</td>\n",
       "      <td>0</td>\n",
       "      <td>0</td>\n",
       "      <td>0</td>\n",
       "      <td>0</td>\n",
       "      <td>0</td>\n",
       "      <td>0</td>\n",
       "      <td>0</td>\n",
       "      <td>0</td>\n",
       "      <td>0</td>\n",
       "      <td>0</td>\n",
       "      <td>0</td>\n",
       "      <td>0</td>\n",
       "      <td>0</td>\n",
       "      <td>0</td>\n",
       "      <td>0</td>\n",
       "      <td>0</td>\n",
       "      <td>0</td>\n",
       "      <td>0</td>\n",
       "      <td>0</td>\n",
       "      <td>0</td>\n",
       "      <td>0</td>\n",
       "      <td>0</td>\n",
       "      <td>0</td>\n",
       "      <td>0</td>\n",
       "      <td>0</td>\n",
       "      <td>0</td>\n",
       "      <td>0</td>\n",
       "      <td>0</td>\n",
       "      <td>0</td>\n",
       "      <td>0</td>\n",
       "      <td>0</td>\n",
       "      <td>0</td>\n",
       "      <td>0</td>\n",
       "      <td>0</td>\n",
       "      <td>0</td>\n",
       "      <td>0</td>\n",
       "      <td>0</td>\n",
       "      <td>0</td>\n",
       "      <td>0</td>\n",
       "      <td>0</td>\n",
       "      <td>1</td>\n",
       "      <td>0</td>\n",
       "      <td>0</td>\n",
       "      <td>0</td>\n",
       "      <td>0</td>\n",
       "      <td>0</td>\n",
       "      <td>0</td>\n",
       "      <td>0</td>\n",
       "      <td>0</td>\n",
       "      <td>0</td>\n",
       "      <td>0</td>\n",
       "      <td>0</td>\n",
       "      <td>0</td>\n",
       "      <td>0</td>\n",
       "      <td>0</td>\n",
       "      <td>0</td>\n",
       "      <td>0</td>\n",
       "      <td>0</td>\n",
       "      <td>0</td>\n",
       "      <td>0</td>\n",
       "      <td>1</td>\n",
       "      <td>0</td>\n",
       "      <td>0</td>\n",
       "      <td>0</td>\n",
       "      <td>1</td>\n",
       "      <td>0</td>\n",
       "      <td>0</td>\n",
       "      <td>0</td>\n",
       "      <td>0</td>\n",
       "      <td>0</td>\n",
       "      <td>0</td>\n",
       "      <td>0</td>\n",
       "      <td>0</td>\n",
       "      <td>1</td>\n",
       "    </tr>\n",
       "    <tr>\n",
       "      <th>2</th>\n",
       "      <td>-0.055</td>\n",
       "      <td>1.740</td>\n",
       "      <td>1</td>\n",
       "      <td>0</td>\n",
       "      <td>0</td>\n",
       "      <td>0</td>\n",
       "      <td>0</td>\n",
       "      <td>0</td>\n",
       "      <td>0</td>\n",
       "      <td>0</td>\n",
       "      <td>0</td>\n",
       "      <td>0</td>\n",
       "      <td>0</td>\n",
       "      <td>0</td>\n",
       "      <td>1</td>\n",
       "      <td>0</td>\n",
       "      <td>1</td>\n",
       "      <td>0</td>\n",
       "      <td>0</td>\n",
       "      <td>0</td>\n",
       "      <td>0</td>\n",
       "      <td>0</td>\n",
       "      <td>0</td>\n",
       "      <td>0</td>\n",
       "      <td>0</td>\n",
       "      <td>0</td>\n",
       "      <td>0</td>\n",
       "      <td>0</td>\n",
       "      <td>0</td>\n",
       "      <td>0</td>\n",
       "      <td>0</td>\n",
       "      <td>0</td>\n",
       "      <td>0</td>\n",
       "      <td>0</td>\n",
       "      <td>0</td>\n",
       "      <td>0</td>\n",
       "      <td>0</td>\n",
       "      <td>0</td>\n",
       "      <td>0</td>\n",
       "      <td>0</td>\n",
       "      <td>0</td>\n",
       "      <td>0</td>\n",
       "      <td>0</td>\n",
       "      <td>0</td>\n",
       "      <td>0</td>\n",
       "      <td>0</td>\n",
       "      <td>0</td>\n",
       "      <td>0</td>\n",
       "      <td>0</td>\n",
       "      <td>0</td>\n",
       "      <td>0</td>\n",
       "      <td>0</td>\n",
       "      <td>0</td>\n",
       "      <td>0</td>\n",
       "      <td>0</td>\n",
       "      <td>0</td>\n",
       "      <td>0</td>\n",
       "      <td>0</td>\n",
       "      <td>0</td>\n",
       "      <td>0</td>\n",
       "      <td>0</td>\n",
       "      <td>0</td>\n",
       "      <td>0</td>\n",
       "      <td>0</td>\n",
       "      <td>0</td>\n",
       "      <td>0</td>\n",
       "      <td>0</td>\n",
       "      <td>1</td>\n",
       "      <td>0</td>\n",
       "      <td>0</td>\n",
       "      <td>0</td>\n",
       "      <td>0</td>\n",
       "      <td>0</td>\n",
       "      <td>0</td>\n",
       "      <td>0</td>\n",
       "      <td>0</td>\n",
       "      <td>0</td>\n",
       "      <td>0</td>\n",
       "      <td>0</td>\n",
       "      <td>0</td>\n",
       "      <td>0</td>\n",
       "      <td>0</td>\n",
       "      <td>0</td>\n",
       "      <td>0</td>\n",
       "      <td>0</td>\n",
       "      <td>0</td>\n",
       "      <td>0</td>\n",
       "      <td>0</td>\n",
       "      <td>0</td>\n",
       "      <td>0</td>\n",
       "      <td>0</td>\n",
       "      <td>0</td>\n",
       "      <td>0</td>\n",
       "      <td>0</td>\n",
       "      <td>0</td>\n",
       "      <td>0</td>\n",
       "      <td>0</td>\n",
       "      <td>0</td>\n",
       "      <td>0</td>\n",
       "      <td>0</td>\n",
       "      <td>0</td>\n",
       "      <td>0</td>\n",
       "      <td>0</td>\n",
       "      <td>0</td>\n",
       "      <td>0</td>\n",
       "      <td>0</td>\n",
       "      <td>0</td>\n",
       "      <td>0</td>\n",
       "      <td>0</td>\n",
       "      <td>0</td>\n",
       "      <td>0</td>\n",
       "      <td>0</td>\n",
       "      <td>0</td>\n",
       "      <td>0</td>\n",
       "      <td>1</td>\n",
       "      <td>0</td>\n",
       "      <td>0</td>\n",
       "      <td>0</td>\n",
       "      <td>0</td>\n",
       "      <td>0</td>\n",
       "      <td>0</td>\n",
       "      <td>0</td>\n",
       "      <td>0</td>\n",
       "      <td>0</td>\n",
       "      <td>0</td>\n",
       "      <td>0</td>\n",
       "      <td>0</td>\n",
       "      <td>0</td>\n",
       "      <td>0</td>\n",
       "      <td>0</td>\n",
       "      <td>0</td>\n",
       "      <td>0</td>\n",
       "      <td>0</td>\n",
       "      <td>0</td>\n",
       "      <td>1</td>\n",
       "      <td>0</td>\n",
       "      <td>0</td>\n",
       "      <td>0</td>\n",
       "      <td>1</td>\n",
       "      <td>0</td>\n",
       "      <td>0</td>\n",
       "      <td>0</td>\n",
       "      <td>0</td>\n",
       "      <td>0</td>\n",
       "      <td>0</td>\n",
       "      <td>0</td>\n",
       "      <td>0</td>\n",
       "      <td>1</td>\n",
       "    </tr>\n",
       "    <tr>\n",
       "      <th>3</th>\n",
       "      <td>-0.055</td>\n",
       "      <td>1.720</td>\n",
       "      <td>1</td>\n",
       "      <td>0</td>\n",
       "      <td>1</td>\n",
       "      <td>0</td>\n",
       "      <td>0</td>\n",
       "      <td>0</td>\n",
       "      <td>0</td>\n",
       "      <td>0</td>\n",
       "      <td>0</td>\n",
       "      <td>0</td>\n",
       "      <td>0</td>\n",
       "      <td>0</td>\n",
       "      <td>0</td>\n",
       "      <td>0</td>\n",
       "      <td>1</td>\n",
       "      <td>0</td>\n",
       "      <td>0</td>\n",
       "      <td>0</td>\n",
       "      <td>0</td>\n",
       "      <td>0</td>\n",
       "      <td>0</td>\n",
       "      <td>0</td>\n",
       "      <td>0</td>\n",
       "      <td>0</td>\n",
       "      <td>0</td>\n",
       "      <td>0</td>\n",
       "      <td>0</td>\n",
       "      <td>0</td>\n",
       "      <td>0</td>\n",
       "      <td>0</td>\n",
       "      <td>0</td>\n",
       "      <td>0</td>\n",
       "      <td>0</td>\n",
       "      <td>0</td>\n",
       "      <td>0</td>\n",
       "      <td>0</td>\n",
       "      <td>0</td>\n",
       "      <td>0</td>\n",
       "      <td>0</td>\n",
       "      <td>0</td>\n",
       "      <td>0</td>\n",
       "      <td>0</td>\n",
       "      <td>0</td>\n",
       "      <td>0</td>\n",
       "      <td>0</td>\n",
       "      <td>0</td>\n",
       "      <td>0</td>\n",
       "      <td>0</td>\n",
       "      <td>0</td>\n",
       "      <td>0</td>\n",
       "      <td>0</td>\n",
       "      <td>0</td>\n",
       "      <td>0</td>\n",
       "      <td>0</td>\n",
       "      <td>0</td>\n",
       "      <td>0</td>\n",
       "      <td>0</td>\n",
       "      <td>0</td>\n",
       "      <td>0</td>\n",
       "      <td>0</td>\n",
       "      <td>0</td>\n",
       "      <td>0</td>\n",
       "      <td>0</td>\n",
       "      <td>0</td>\n",
       "      <td>0</td>\n",
       "      <td>1</td>\n",
       "      <td>0</td>\n",
       "      <td>0</td>\n",
       "      <td>0</td>\n",
       "      <td>0</td>\n",
       "      <td>0</td>\n",
       "      <td>0</td>\n",
       "      <td>0</td>\n",
       "      <td>0</td>\n",
       "      <td>0</td>\n",
       "      <td>0</td>\n",
       "      <td>0</td>\n",
       "      <td>0</td>\n",
       "      <td>0</td>\n",
       "      <td>0</td>\n",
       "      <td>0</td>\n",
       "      <td>0</td>\n",
       "      <td>0</td>\n",
       "      <td>0</td>\n",
       "      <td>0</td>\n",
       "      <td>0</td>\n",
       "      <td>0</td>\n",
       "      <td>0</td>\n",
       "      <td>0</td>\n",
       "      <td>0</td>\n",
       "      <td>0</td>\n",
       "      <td>0</td>\n",
       "      <td>0</td>\n",
       "      <td>0</td>\n",
       "      <td>0</td>\n",
       "      <td>0</td>\n",
       "      <td>0</td>\n",
       "      <td>0</td>\n",
       "      <td>0</td>\n",
       "      <td>0</td>\n",
       "      <td>0</td>\n",
       "      <td>0</td>\n",
       "      <td>0</td>\n",
       "      <td>0</td>\n",
       "      <td>0</td>\n",
       "      <td>0</td>\n",
       "      <td>0</td>\n",
       "      <td>0</td>\n",
       "      <td>0</td>\n",
       "      <td>0</td>\n",
       "      <td>0</td>\n",
       "      <td>0</td>\n",
       "      <td>1</td>\n",
       "      <td>0</td>\n",
       "      <td>0</td>\n",
       "      <td>0</td>\n",
       "      <td>0</td>\n",
       "      <td>0</td>\n",
       "      <td>0</td>\n",
       "      <td>0</td>\n",
       "      <td>0</td>\n",
       "      <td>0</td>\n",
       "      <td>0</td>\n",
       "      <td>0</td>\n",
       "      <td>1</td>\n",
       "      <td>0</td>\n",
       "      <td>0</td>\n",
       "      <td>0</td>\n",
       "      <td>0</td>\n",
       "      <td>0</td>\n",
       "      <td>0</td>\n",
       "      <td>0</td>\n",
       "      <td>0</td>\n",
       "      <td>0</td>\n",
       "      <td>0</td>\n",
       "      <td>0</td>\n",
       "      <td>1</td>\n",
       "      <td>0</td>\n",
       "      <td>0</td>\n",
       "      <td>1</td>\n",
       "      <td>0</td>\n",
       "      <td>0</td>\n",
       "      <td>0</td>\n",
       "      <td>0</td>\n",
       "      <td>0</td>\n",
       "      <td>0</td>\n",
       "    </tr>\n",
       "    <tr>\n",
       "      <th>4</th>\n",
       "      <td>-0.045</td>\n",
       "      <td>2.560</td>\n",
       "      <td>1</td>\n",
       "      <td>0</td>\n",
       "      <td>1</td>\n",
       "      <td>0</td>\n",
       "      <td>0</td>\n",
       "      <td>0</td>\n",
       "      <td>0</td>\n",
       "      <td>0</td>\n",
       "      <td>0</td>\n",
       "      <td>0</td>\n",
       "      <td>0</td>\n",
       "      <td>0</td>\n",
       "      <td>0</td>\n",
       "      <td>0</td>\n",
       "      <td>1</td>\n",
       "      <td>0</td>\n",
       "      <td>0</td>\n",
       "      <td>0</td>\n",
       "      <td>0</td>\n",
       "      <td>0</td>\n",
       "      <td>0</td>\n",
       "      <td>0</td>\n",
       "      <td>0</td>\n",
       "      <td>0</td>\n",
       "      <td>0</td>\n",
       "      <td>0</td>\n",
       "      <td>0</td>\n",
       "      <td>0</td>\n",
       "      <td>0</td>\n",
       "      <td>0</td>\n",
       "      <td>0</td>\n",
       "      <td>0</td>\n",
       "      <td>0</td>\n",
       "      <td>0</td>\n",
       "      <td>0</td>\n",
       "      <td>0</td>\n",
       "      <td>0</td>\n",
       "      <td>0</td>\n",
       "      <td>0</td>\n",
       "      <td>0</td>\n",
       "      <td>0</td>\n",
       "      <td>0</td>\n",
       "      <td>0</td>\n",
       "      <td>0</td>\n",
       "      <td>0</td>\n",
       "      <td>0</td>\n",
       "      <td>0</td>\n",
       "      <td>0</td>\n",
       "      <td>0</td>\n",
       "      <td>0</td>\n",
       "      <td>0</td>\n",
       "      <td>0</td>\n",
       "      <td>0</td>\n",
       "      <td>0</td>\n",
       "      <td>0</td>\n",
       "      <td>0</td>\n",
       "      <td>0</td>\n",
       "      <td>0</td>\n",
       "      <td>0</td>\n",
       "      <td>0</td>\n",
       "      <td>0</td>\n",
       "      <td>0</td>\n",
       "      <td>0</td>\n",
       "      <td>0</td>\n",
       "      <td>0</td>\n",
       "      <td>1</td>\n",
       "      <td>0</td>\n",
       "      <td>0</td>\n",
       "      <td>0</td>\n",
       "      <td>0</td>\n",
       "      <td>0</td>\n",
       "      <td>0</td>\n",
       "      <td>0</td>\n",
       "      <td>0</td>\n",
       "      <td>0</td>\n",
       "      <td>0</td>\n",
       "      <td>0</td>\n",
       "      <td>0</td>\n",
       "      <td>0</td>\n",
       "      <td>0</td>\n",
       "      <td>0</td>\n",
       "      <td>0</td>\n",
       "      <td>0</td>\n",
       "      <td>0</td>\n",
       "      <td>0</td>\n",
       "      <td>0</td>\n",
       "      <td>0</td>\n",
       "      <td>0</td>\n",
       "      <td>0</td>\n",
       "      <td>0</td>\n",
       "      <td>0</td>\n",
       "      <td>0</td>\n",
       "      <td>0</td>\n",
       "      <td>0</td>\n",
       "      <td>0</td>\n",
       "      <td>0</td>\n",
       "      <td>0</td>\n",
       "      <td>0</td>\n",
       "      <td>0</td>\n",
       "      <td>0</td>\n",
       "      <td>0</td>\n",
       "      <td>0</td>\n",
       "      <td>0</td>\n",
       "      <td>0</td>\n",
       "      <td>0</td>\n",
       "      <td>0</td>\n",
       "      <td>0</td>\n",
       "      <td>0</td>\n",
       "      <td>0</td>\n",
       "      <td>0</td>\n",
       "      <td>0</td>\n",
       "      <td>0</td>\n",
       "      <td>1</td>\n",
       "      <td>0</td>\n",
       "      <td>0</td>\n",
       "      <td>0</td>\n",
       "      <td>0</td>\n",
       "      <td>0</td>\n",
       "      <td>0</td>\n",
       "      <td>0</td>\n",
       "      <td>0</td>\n",
       "      <td>0</td>\n",
       "      <td>0</td>\n",
       "      <td>0</td>\n",
       "      <td>1</td>\n",
       "      <td>0</td>\n",
       "      <td>0</td>\n",
       "      <td>0</td>\n",
       "      <td>0</td>\n",
       "      <td>0</td>\n",
       "      <td>0</td>\n",
       "      <td>0</td>\n",
       "      <td>0</td>\n",
       "      <td>0</td>\n",
       "      <td>0</td>\n",
       "      <td>0</td>\n",
       "      <td>1</td>\n",
       "      <td>0</td>\n",
       "      <td>0</td>\n",
       "      <td>1</td>\n",
       "      <td>0</td>\n",
       "      <td>0</td>\n",
       "      <td>0</td>\n",
       "      <td>0</td>\n",
       "      <td>0</td>\n",
       "      <td>0</td>\n",
       "    </tr>\n",
       "  </tbody>\n",
       "</table>\n",
       "</div>"
      ],
      "text/plain": [
       "   score  risk_factor  malicious_ord  HRU_HRU  HRU_HRU11  HRU_HRU12  \\\n",
       "0 -0.054        1.800              1        0          0          0   \n",
       "1 -0.052        1.950              1        0          0          0   \n",
       "2 -0.055        1.740              1        0          0          0   \n",
       "3 -0.055        1.720              1        0          1          0   \n",
       "4 -0.045        2.560              1        0          1          0   \n",
       "\n",
       "   HRU_HRU13  HRU_HRU18  HRU_HRU19  HRU_HRU2  HRU_HRU3  HRU_HRU5  HRU_HRU6  \\\n",
       "0          0          0          0         0         0         0         0   \n",
       "1          0          0          0         0         0         0         0   \n",
       "2          0          0          0         0         0         0         0   \n",
       "3          0          0          0         0         0         0         0   \n",
       "4          0          0          0         0         0         0         0   \n",
       "\n",
       "   HRU_HRU7  HRU_None  alert_type_Atomic  alert_type_Daily_Heat  \\\n",
       "0         0         1                  0                      1   \n",
       "1         0         1                  0                      1   \n",
       "2         0         1                  0                      1   \n",
       "3         0         0                  0                      1   \n",
       "4         0         0                  0                      1   \n",
       "\n",
       "   alert_type_Monthly_Heat  alert_type_Weekly_Heat  State_Name_Abu Dhabi  \\\n",
       "0                        0                       0                     0   \n",
       "1                        0                       0                     0   \n",
       "2                        0                       0                     0   \n",
       "3                        0                       0                     0   \n",
       "4                        0                       0                     0   \n",
       "\n",
       "   State_Name_Addis Ababa  State_Name_Alabama  State_Name_Alberta  \\\n",
       "0                       0                   0                   0   \n",
       "1                       0                   0                   0   \n",
       "2                       0                   0                   0   \n",
       "3                       0                   0                   0   \n",
       "4                       0                   0                   0   \n",
       "\n",
       "   State_Name_Arizona  State_Name_Bavaria  State_Name_Beijing  \\\n",
       "0                   0                   0                   0   \n",
       "1                   0                   0                   0   \n",
       "2                   0                   0                   0   \n",
       "3                   0                   0                   0   \n",
       "4                   0                   0                   0   \n",
       "\n",
       "   State_Name_Brindisi  State_Name_California  State_Name_Ceara  \\\n",
       "0                    0                      0                 0   \n",
       "1                    0                      0                 0   \n",
       "2                    0                      0                 0   \n",
       "3                    0                      0                 0   \n",
       "4                    0                      0                 0   \n",
       "\n",
       "   State_Name_Central Singapore  State_Name_Ciudad Autonoma de Buenos Aires  \\\n",
       "0                             0                                           0   \n",
       "1                             0                                           0   \n",
       "2                             0                                           0   \n",
       "3                             0                                           0   \n",
       "4                             0                                           0   \n",
       "\n",
       "   State_Name_Coahuila  State_Name_Colorado  State_Name_Connecticut  \\\n",
       "0                    0                    0                       0   \n",
       "1                    0                    0                       0   \n",
       "2                    0                    0                       0   \n",
       "3                    0                    0                       0   \n",
       "4                    0                    0                       0   \n",
       "\n",
       "   State_Name_Delaware  State_Name_District Of Columbia  State_Name_Dubai  \\\n",
       "0                    0                                0                 0   \n",
       "1                    0                                0                 0   \n",
       "2                    0                                0                 0   \n",
       "3                    0                                0                 0   \n",
       "4                    0                                0                 0   \n",
       "\n",
       "   State_Name_England  State_Name_Florida  State_Name_Georgia  \\\n",
       "0                   0                   0                   0   \n",
       "1                   0                   0                   0   \n",
       "2                   0                   0                   0   \n",
       "3                   0                   0                   0   \n",
       "4                   0                   0                   0   \n",
       "\n",
       "   State_Name_Guangdong  State_Name_Hainan  State_Name_Haryana  \\\n",
       "0                     0                  0                   0   \n",
       "1                     0                  0                   0   \n",
       "2                     0                  0                   0   \n",
       "3                     0                  0                   0   \n",
       "4                     0                  0                   0   \n",
       "\n",
       "   State_Name_Ile-de-France  State_Name_Illinois  State_Name_Indiana  \\\n",
       "0                         0                    0                   0   \n",
       "1                         0                    0                   0   \n",
       "2                         0                    0                   0   \n",
       "3                         0                    0                   0   \n",
       "4                         0                    0                   0   \n",
       "\n",
       "   State_Name_Iowa  State_Name_Jiangsu  State_Name_Kansas  \\\n",
       "0                0                   0                  0   \n",
       "1                0                   0                  0   \n",
       "2                0                   0                  0   \n",
       "3                0                   0                  0   \n",
       "4                0                   0                  0   \n",
       "\n",
       "   State_Name_Karnataka  State_Name_Kentucky  State_Name_Kocaeli  \\\n",
       "0                     0                    0                   0   \n",
       "1                     0                    0                   0   \n",
       "2                     0                    0                   0   \n",
       "3                     0                    0                   0   \n",
       "4                     0                    0                   0   \n",
       "\n",
       "   State_Name_Louisiana  State_Name_Lower Silesian  State_Name_Maharashtra  \\\n",
       "0                     0                          0                       0   \n",
       "1                     0                          0                       0   \n",
       "2                     0                          0                       0   \n",
       "3                     0                          0                       0   \n",
       "4                     0                          0                       0   \n",
       "\n",
       "   State_Name_Maine  State_Name_Maryland  State_Name_Masovian  \\\n",
       "0                 0                    0                    0   \n",
       "1                 0                    0                    0   \n",
       "2                 0                    0                    0   \n",
       "3                 0                    0                    0   \n",
       "4                 0                    0                    0   \n",
       "\n",
       "   State_Name_Massachusetts  State_Name_Michigan  State_Name_Mississippi  \\\n",
       "0                         0                    0                       0   \n",
       "1                         0                    0                       0   \n",
       "2                         0                    0                       0   \n",
       "3                         0                    0                       0   \n",
       "4                         0                    0                       0   \n",
       "\n",
       "   State_Name_New Hampshire  State_Name_New South Wales  State_Name_New York  \\\n",
       "0                         0                           0                    0   \n",
       "1                         0                           0                    0   \n",
       "2                         0                           0                    0   \n",
       "3                         0                           0                    0   \n",
       "4                         0                           0                    0   \n",
       "\n",
       "   State_Name_No_Data  State_Name_North Carolina  State_Name_Nova Scotia  \\\n",
       "0                   0                          0                       0   \n",
       "1                   0                          0                       0   \n",
       "2                   0                          0                       0   \n",
       "3                   0                          0                       0   \n",
       "4                   0                          0                       0   \n",
       "\n",
       "   State_Name_Ohio  State_Name_Oklahoma  State_Name_Pennsylvania  \\\n",
       "0                1                    0                        0   \n",
       "1                1                    0                        0   \n",
       "2                1                    0                        0   \n",
       "3                1                    0                        0   \n",
       "4                1                    0                        0   \n",
       "\n",
       "   State_Name_Pest  State_Name_Prague  State_Name_Quebec  \\\n",
       "0                0                  0                  0   \n",
       "1                0                  0                  0   \n",
       "2                0                  0                  0   \n",
       "3                0                  0                  0   \n",
       "4                0                  0                  0   \n",
       "\n",
       "   State_Name_Queensland  State_Name_Queretaro  State_Name_Rio de Janeiro  \\\n",
       "0                      0                     0                          0   \n",
       "1                      0                     0                          0   \n",
       "2                      0                     0                          0   \n",
       "3                      0                     0                          0   \n",
       "4                      0                     0                          0   \n",
       "\n",
       "   State_Name_Sao Paulo  State_Name_Scotland  State_Name_Selangor  \\\n",
       "0                     0                    0                    0   \n",
       "1                     0                    0                    0   \n",
       "2                     0                    0                    0   \n",
       "3                     0                    0                    0   \n",
       "4                     0                    0                    0   \n",
       "\n",
       "   State_Name_Shaanxi  State_Name_Shandong  State_Name_Shanghai  \\\n",
       "0                   0                    0                    0   \n",
       "1                   0                    0                    0   \n",
       "2                   0                    0                    0   \n",
       "3                   0                    0                    0   \n",
       "4                   0                    0                    0   \n",
       "\n",
       "   State_Name_Silesian  State_Name_South Carolina  State_Name_Taoyuan  \\\n",
       "0                    0                          0                   0   \n",
       "1                    0                          0                   0   \n",
       "2                    0                          0                   0   \n",
       "3                    0                          0                   0   \n",
       "4                    0                          0                   0   \n",
       "\n",
       "   State_Name_Texas  State_Name_Tokyo  State_Name_Turin  State_Name_Vermont  \\\n",
       "0                 0                 0                 0                   0   \n",
       "1                 0                 0                 0                   0   \n",
       "2                 0                 0                 0                   0   \n",
       "3                 0                 0                 0                   0   \n",
       "4                 0                 0                 0                   0   \n",
       "\n",
       "   State_Name_Victoria  State_Name_Virginia  State_Name_Wales  \\\n",
       "0                    0                    0                 0   \n",
       "1                    0                    0                 0   \n",
       "2                    0                    0                 0   \n",
       "3                    0                    0                 0   \n",
       "4                    0                    0                 0   \n",
       "\n",
       "   State_Name_Washington  COUNTRY_CODE_AE  COUNTRY_CODE_AR  COUNTRY_CODE_AU  \\\n",
       "0                      0                0                0                0   \n",
       "1                      0                0                0                0   \n",
       "2                      0                0                0                0   \n",
       "3                      0                0                0                0   \n",
       "4                      0                0                0                0   \n",
       "\n",
       "   COUNTRY_CODE_BR  COUNTRY_CODE_CA  COUNTRY_CODE_CN  COUNTRY_CODE_CZ  \\\n",
       "0                0                0                0                0   \n",
       "1                0                0                0                0   \n",
       "2                0                0                0                0   \n",
       "3                0                0                0                0   \n",
       "4                0                0                0                0   \n",
       "\n",
       "   COUNTRY_CODE_DE  COUNTRY_CODE_ET  COUNTRY_CODE_FR  COUNTRY_CODE_GB  \\\n",
       "0                0                0                0                0   \n",
       "1                0                0                0                0   \n",
       "2                0                0                0                0   \n",
       "3                0                0                0                0   \n",
       "4                0                0                0                0   \n",
       "\n",
       "   COUNTRY_CODE_HU  COUNTRY_CODE_IN  COUNTRY_CODE_IT  COUNTRY_CODE_JP  \\\n",
       "0                0                0                0                0   \n",
       "1                0                0                0                0   \n",
       "2                0                0                0                0   \n",
       "3                0                0                0                0   \n",
       "4                0                0                0                0   \n",
       "\n",
       "   COUNTRY_CODE_MX  COUNTRY_CODE_MY  COUNTRY_CODE_PL  COUNTRY_CODE_SG  \\\n",
       "0                0                0                0                0   \n",
       "1                0                0                0                0   \n",
       "2                0                0                0                0   \n",
       "3                0                0                0                0   \n",
       "4                0                0                0                0   \n",
       "\n",
       "   COUNTRY_CODE_TR  COUNTRY_CODE_TW  COUNTRY_CODE_US  \\\n",
       "0                0                0                1   \n",
       "1                0                0                1   \n",
       "2                0                0                1   \n",
       "3                0                0                1   \n",
       "4                0                0                1   \n",
       "\n",
       "   Business_Segment_Aviation  Business_Segment_Aviation Additive  \\\n",
       "0                          0                                   0   \n",
       "1                          0                                   0   \n",
       "2                          0                                   0   \n",
       "3                          0                                   0   \n",
       "4                          0                                   0   \n",
       "\n",
       "   Business_Segment_Aviation Aeroderivatives  \\\n",
       "0                                          0   \n",
       "1                                          0   \n",
       "2                                          0   \n",
       "3                                          0   \n",
       "4                                          0   \n",
       "\n",
       "   Business_Segment_Aviation AvioAero  \\\n",
       "0                                   0   \n",
       "1                                   0   \n",
       "2                                   0   \n",
       "3                                   0   \n",
       "4                                   0   \n",
       "\n",
       "   Business_Segment_Aviation Avionics & Digital Systems  \\\n",
       "0                                                  0      \n",
       "1                                                  0      \n",
       "2                                                  0      \n",
       "3                                                  0      \n",
       "4                                                  0      \n",
       "\n",
       "   Business_Segment_Aviation Business & General Aviation & Integrated Systems  \\\n",
       "0                                                  0                            \n",
       "1                                                  0                            \n",
       "2                                                  0                            \n",
       "3                                                  0                            \n",
       "4                                                  0                            \n",
       "\n",
       "   Business_Segment_Aviation China  \\\n",
       "0                                0   \n",
       "1                                0   \n",
       "2                                0   \n",
       "3                                0   \n",
       "4                                0   \n",
       "\n",
       "   Business_Segment_Aviation Commercial Engines  \\\n",
       "0                                             0   \n",
       "1                                             0   \n",
       "2                                             0   \n",
       "3                                             0   \n",
       "4                                             0   \n",
       "\n",
       "   Business_Segment_Aviation Communications & GE Advantage  \\\n",
       "0                                                  0         \n",
       "1                                                  0         \n",
       "2                                                  0         \n",
       "3                                                  0         \n",
       "4                                                  0         \n",
       "\n",
       "   Business_Segment_Aviation Digital  \\\n",
       "0                                  0   \n",
       "1                                  0   \n",
       "2                                  0   \n",
       "3                                  0   \n",
       "4                                  0   \n",
       "\n",
       "   Business_Segment_Aviation Digital League  \\\n",
       "0                                         0   \n",
       "1                                         0   \n",
       "2                                         0   \n",
       "3                                         0   \n",
       "4                                         0   \n",
       "\n",
       "   Business_Segment_Aviation Engineering  Business_Segment_Aviation Finance  \\\n",
       "0                                      0                                  0   \n",
       "1                                      0                                  0   \n",
       "2                                      0                                  0   \n",
       "3                                      1                                  0   \n",
       "4                                      1                                  0   \n",
       "\n",
       "   Business_Segment_Aviation Headquarters  \\\n",
       "0                                       0   \n",
       "1                                       0   \n",
       "2                                       0   \n",
       "3                                       0   \n",
       "4                                       0   \n",
       "\n",
       "   Business_Segment_Aviation Human Resources  \\\n",
       "0                                          0   \n",
       "1                                          0   \n",
       "2                                          0   \n",
       "3                                          0   \n",
       "4                                          0   \n",
       "\n",
       "   Business_Segment_Aviation Legal & Business Development  \\\n",
       "0                                                  0        \n",
       "1                                                  0        \n",
       "2                                                  0        \n",
       "3                                                  0        \n",
       "4                                                  0        \n",
       "\n",
       "   Business_Segment_Aviation Military Systems  \\\n",
       "0                                           0   \n",
       "1                                           0   \n",
       "2                                           0   \n",
       "3                                           0   \n",
       "4                                           0   \n",
       "\n",
       "   Business_Segment_Aviation Sales & Marketing  \\\n",
       "0                                            0   \n",
       "1                                            0   \n",
       "2                                            0   \n",
       "3                                            0   \n",
       "4                                            0   \n",
       "\n",
       "   Business_Segment_Aviation Services  Business_Segment_Aviation Supply Chain  \\\n",
       "0                                   0                                       1   \n",
       "1                                   0                                       1   \n",
       "2                                   0                                       1   \n",
       "3                                   0                                       0   \n",
       "4                                   0                                       0   \n",
       "\n",
       "   Business_Segment_Digital Technology  Function_Group_Commercial  \\\n",
       "0                                    0                          0   \n",
       "1                                    0                          0   \n",
       "2                                    0                          0   \n",
       "3                                    0                          0   \n",
       "4                                    0                          0   \n",
       "\n",
       "   Function_Group_Enabling  Function_Group_Production  Career_Band_EB  \\\n",
       "0                        0                          1               0   \n",
       "1                        0                          1               0   \n",
       "2                        0                          1               0   \n",
       "3                        0                          1               0   \n",
       "4                        0                          1               0   \n",
       "\n",
       "   Career_Band_HRLY  Career_Band_LPB  Career_Band_LTB  Career_Band_No_Data  \\\n",
       "0                 0                0                0                    0   \n",
       "1                 0                0                0                    0   \n",
       "2                 0                0                0                    0   \n",
       "3                 0                1                0                    0   \n",
       "4                 0                1                0                    0   \n",
       "\n",
       "   Career_Band_OTHSAL  Career_Band_PB  Career_Band_SEB  Career_Band_SPB  \n",
       "0                   0               0                0                1  \n",
       "1                   0               0                0                1  \n",
       "2                   0               0                0                1  \n",
       "3                   0               0                0                0  \n",
       "4                   0               0                0                0  "
      ]
     },
     "execution_count": 38,
     "metadata": {
      "tags": []
     },
     "output_type": "execute_result"
    }
   ],
   "source": [
    "X['score'] = scaler_score\n",
    "X.head()"
   ]
  },
  {
   "cell_type": "code",
   "execution_count": null,
   "metadata": {
    "colab": {},
    "colab_type": "code",
    "id": "BG5XSp3rtLDs"
   },
   "outputs": [],
   "source": [
    "X = pd.concat([X, d_indicators], axis = 1)"
   ]
  },
  {
   "cell_type": "code",
   "execution_count": 40,
   "metadata": {
    "colab": {
     "base_uri": "https://localhost:8080/",
     "height": 34
    },
    "colab_type": "code",
    "id": "aD3QE23K0P5N",
    "outputId": "b8e68c39-333f-4631-fbe2-15fb75e191bc"
   },
   "outputs": [
    {
     "name": "stdout",
     "output_type": "stream",
     "text": [
      "Dataset size: 99463  number of features: 242  number of classes: 2\n"
     ]
    }
   ],
   "source": [
    "print(\"Dataset size: %d  number of features: %d  number of classes: %d\"\n",
    "      % (X.shape[0], X.shape[1], len(np.unique(y))))"
   ]
  },
  {
   "cell_type": "markdown",
   "metadata": {
    "colab_type": "text",
    "id": "O-WmOh2VFWZ0"
   },
   "source": [
    "# Part 3: Model Training and Result Evaluation"
   ]
  },
  {
   "cell_type": "markdown",
   "metadata": {
    "colab_type": "text",
    "id": "wzl1GgqZFeYx"
   },
   "source": [
    "### Part 3.1: Split dataset"
   ]
  },
  {
   "cell_type": "code",
   "execution_count": 41,
   "metadata": {
    "colab": {
     "base_uri": "https://localhost:8080/",
     "height": 51
    },
    "colab_type": "code",
    "id": "5W1GlWASFKKq",
    "outputId": "47529733-bcff-49a4-e504-73ff1b8d4960"
   },
   "outputs": [
    {
     "name": "stdout",
     "output_type": "stream",
     "text": [
      "training data has 74597 observation with 242 features\n",
      "test data has 24866 observation with 242 features\n"
     ]
    }
   ],
   "source": [
    "# Splite data into training and testing\n",
    "from sklearn import model_selection\n",
    "\n",
    "# stratifed sampling\n",
    "X_train, X_test, y_train, y_test = model_selection.train_test_split(X, y, stratify = y)\n",
    "\n",
    "print('training data has %d observation with %d features'% X_train.shape)\n",
    "print('test data has %d observation with %d features'% X_test.shape)"
   ]
  },
  {
   "cell_type": "markdown",
   "metadata": {
    "colab_type": "text",
    "id": "QtBIcZJxHwXB"
   },
   "source": [
    "### Part 3.2: Model Training and Selection"
   ]
  },
  {
   "cell_type": "code",
   "execution_count": null,
   "metadata": {
    "colab": {},
    "colab_type": "code",
    "id": "7o1whTHTHcTG"
   },
   "outputs": [],
   "source": [
    "# build models\n",
    "from sklearn.ensemble import RandomForestClassifier \n",
    "from sklearn.linear_model import LogisticRegression\n",
    "\n",
    "# Logistic Regression\n",
    "classifier_logistic = LogisticRegression()\n",
    "\n",
    "# Random Forest\n",
    "classifier_RF = RandomForestClassifier()"
   ]
  },
  {
   "cell_type": "markdown",
   "metadata": {
    "colab_type": "text",
    "id": "yQqn_qXBN35k"
   },
   "source": [
    "### Part 3.3: Use Grid Search to Find Optimal Hyperparameters"
   ]
  },
  {
   "cell_type": "code",
   "execution_count": null,
   "metadata": {
    "colab": {},
    "colab_type": "code",
    "id": "Mnz__mi2Nsc8"
   },
   "outputs": [],
   "source": [
    "from sklearn.model_selection import GridSearchCV\n",
    "\n",
    "# helper function for printing out grid search results \n",
    "def print_grid_search_metrics(gs):\n",
    "    print (\"Best score: %0.3f\" % gs.best_score_)\n",
    "    print (\"Best parameters set:\")\n",
    "    best_parameters = gs.best_params_\n",
    "    for param_name in sorted(parameters.keys()):\n",
    "        print(\"\\t%s: %r\" % (param_name, best_parameters[param_name]))"
   ]
  },
  {
   "cell_type": "markdown",
   "metadata": {
    "colab_type": "text",
    "id": "t09ZtByJN-pQ"
   },
   "source": [
    "#### Part 3.3.1: Find Optimal Hyperparameters - LogisticRegression"
   ]
  },
  {
   "cell_type": "code",
   "execution_count": 44,
   "metadata": {
    "colab": {
     "base_uri": "https://localhost:8080/",
     "height": 238
    },
    "colab_type": "code",
    "id": "R2X8Av2sN8Y4",
    "outputId": "fa61848c-dc1b-4dc6-bd6f-4eb1acb5315f"
   },
   "outputs": [
    {
     "data": {
      "text/plain": [
       "GridSearchCV(cv=5, error_score='raise-deprecating',\n",
       "             estimator=LogisticRegression(C=1.0, class_weight=None, dual=False,\n",
       "                                          fit_intercept=True,\n",
       "                                          intercept_scaling=1, l1_ratio=None,\n",
       "                                          max_iter=100, multi_class='warn',\n",
       "                                          n_jobs=None, penalty='l2',\n",
       "                                          random_state=None, solver='warn',\n",
       "                                          tol=0.0001, verbose=0,\n",
       "                                          warm_start=False),\n",
       "             iid='warn', n_jobs=None,\n",
       "             param_grid={'C': (5, 10), 'penalty': ('l1', 'l2')},\n",
       "             pre_dispatch='2*n_jobs', refit=True, return_train_score=False,\n",
       "             scoring=None, verbose=0)"
      ]
     },
     "execution_count": 44,
     "metadata": {
      "tags": []
     },
     "output_type": "execute_result"
    }
   ],
   "source": [
    "# Possible hyperparamter options for Logistic Regression Regularization\n",
    "# Penalty is choosed from L1 or L2\n",
    "# C is the lambda value(weight) for L1 and L2\n",
    "parameters = {\n",
    "    'penalty':('l1', 'l2'), \n",
    "    'C':(5, 10)\n",
    "}\n",
    "Grid_LR = GridSearchCV(LogisticRegression(),parameters, cv=5)\n",
    "Grid_LR.fit(X_train, y_train)"
   ]
  },
  {
   "cell_type": "code",
   "execution_count": 45,
   "metadata": {
    "colab": {
     "base_uri": "https://localhost:8080/",
     "height": 85
    },
    "colab_type": "code",
    "id": "5pDVA93xSz4s",
    "outputId": "0ab81e83-a846-4649-c0ed-31b884df1536"
   },
   "outputs": [
    {
     "name": "stdout",
     "output_type": "stream",
     "text": [
      "Best score: 0.979\n",
      "Best parameters set:\n",
      "\tC: 10\n",
      "\tpenalty: 'l2'\n"
     ]
    }
   ],
   "source": [
    "# the best hyperparameter combination\n",
    "print_grid_search_metrics(Grid_LR)"
   ]
  },
  {
   "cell_type": "code",
   "execution_count": null,
   "metadata": {
    "colab": {},
    "colab_type": "code",
    "id": "Y_oSi_YMS3cz"
   },
   "outputs": [],
   "source": [
    "# best model\n",
    "best_LR_model = Grid_LR.best_estimator_"
   ]
  },
  {
   "cell_type": "markdown",
   "metadata": {
    "colab_type": "text",
    "id": "dHgkBjnJST7p"
   },
   "source": [
    "#### Part 3.3.2: Find Optimal Hyperparameters: Random Forest"
   ]
  },
  {
   "cell_type": "code",
   "execution_count": 47,
   "metadata": {
    "colab": {
     "base_uri": "https://localhost:8080/",
     "height": 306
    },
    "colab_type": "code",
    "id": "VKaQ0E3iSRGy",
    "outputId": "36ec92bd-35ad-4156-c73e-ba4c5694b794"
   },
   "outputs": [
    {
     "data": {
      "text/plain": [
       "GridSearchCV(cv=5, error_score='raise-deprecating',\n",
       "             estimator=RandomForestClassifier(bootstrap=True, class_weight=None,\n",
       "                                              criterion='gini', max_depth=None,\n",
       "                                              max_features='auto',\n",
       "                                              max_leaf_nodes=None,\n",
       "                                              min_impurity_decrease=0.0,\n",
       "                                              min_impurity_split=None,\n",
       "                                              min_samples_leaf=1,\n",
       "                                              min_samples_split=2,\n",
       "                                              min_weight_fraction_leaf=0.0,\n",
       "                                              n_estimators='warn', n_jobs=None,\n",
       "                                              oob_score=False,\n",
       "                                              random_state=None, verbose=0,\n",
       "                                              warm_start=False),\n",
       "             iid='warn', n_jobs=None, param_grid={'n_estimators': [60, 80]},\n",
       "             pre_dispatch='2*n_jobs', refit=True, return_train_score=False,\n",
       "             scoring=None, verbose=0)"
      ]
     },
     "execution_count": 47,
     "metadata": {
      "tags": []
     },
     "output_type": "execute_result"
    }
   ],
   "source": [
    "# Possible hyperparamter options for Random Forest\n",
    "# Choose the number of trees\n",
    "parameters = {\n",
    "    'n_estimators' : [60,80]\n",
    "}\n",
    "Grid_RF = GridSearchCV(RandomForestClassifier(),parameters, cv=5)\n",
    "Grid_RF.fit(X_train, y_train)"
   ]
  },
  {
   "cell_type": "code",
   "execution_count": 48,
   "metadata": {
    "colab": {
     "base_uri": "https://localhost:8080/",
     "height": 68
    },
    "colab_type": "code",
    "id": "JQhn_JfxSWV2",
    "outputId": "856f208b-fe50-49b5-bda4-bab4105a0bdd"
   },
   "outputs": [
    {
     "name": "stdout",
     "output_type": "stream",
     "text": [
      "Best score: 0.989\n",
      "Best parameters set:\n",
      "\tn_estimators: 60\n"
     ]
    }
   ],
   "source": [
    "# best number of tress\n",
    "print_grid_search_metrics(Grid_RF)"
   ]
  },
  {
   "cell_type": "code",
   "execution_count": null,
   "metadata": {
    "colab": {},
    "colab_type": "code",
    "id": "jueMzqyTvzqq"
   },
   "outputs": [],
   "source": [
    "# best random forest\n",
    "best_RF_model = Grid_RF.best_estimator_"
   ]
  },
  {
   "cell_type": "markdown",
   "metadata": {
    "colab_type": "text",
    "id": "qpByrP07xAV5"
   },
   "source": [
    "### Part 3.4: Model Evaluation - Confusion Matrix (Precision, Recall, Accuracy)\n",
    "\n",
    "class of interest as positive\n",
    "\n",
    "TP: correctly labeled classification\n",
    "\n",
    "Precision(PPV, positive predictive value): tp / (tp + fp);\n",
    "Total number of true predictive classification divided by the total number of predictive classification;\n",
    "High Precision means low fp.\n",
    "\n",
    "\n",
    "Recall(sensitivity, hit rate, true positive rate): tp / (tp + fn)\n",
    "Predict most postive classification correctly. High recall means low fn."
   ]
  },
  {
   "cell_type": "code",
   "execution_count": null,
   "metadata": {
    "colab": {},
    "colab_type": "code",
    "id": "CtVENtfMxA7i"
   },
   "outputs": [],
   "source": [
    "from sklearn.metrics import confusion_matrix\n",
    "from sklearn.metrics import classification_report\n",
    "from sklearn.metrics import precision_score\n",
    "from sklearn.metrics import recall_score\n",
    "\n",
    "# calculate accuracy, precision and recall\n",
    "def cal_evaluation(classifier, cm):\n",
    "    tn = cm[0][0]\n",
    "    fp = cm[0][1]\n",
    "    fn = cm[1][0]\n",
    "    tp = cm[1][1]\n",
    "    accuracy  = (tp + tn) / (tp + fp + fn + tn + 0.0)\n",
    "    precision = tp / (tp + fp + 0.0)\n",
    "    recall = tp / (tp + fn + 0.0)\n",
    "    print (classifier)\n",
    "    print (\"Accuracy is: %0.3f\" % accuracy)\n",
    "    print (\"precision is: %0.3f\" % precision)\n",
    "    print (\"recall is: %0.3f\" % recall)\n",
    "\n",
    "# print out confusion matrices\n",
    "def draw_confusion_matrices(confusion_matricies):\n",
    "    class_names = ['FP','TP']\n",
    "    for cm in confusion_matrices:\n",
    "        classifier, cm = cm[0], cm[1]\n",
    "        cal_evaluation(classifier, cm)\n",
    "        fig = plt.figure()\n",
    "        ax = fig.add_subplot(111)\n",
    "        cax = ax.matshow(cm, interpolation='nearest',cmap=plt.get_cmap('Blues'))\n",
    "        plt.title('Confusion matrix for %s \\n' % classifier )\n",
    "        fig.colorbar(cax)\n",
    "        ax.set_xticklabels([''] + class_names)\n",
    "        ax.set_yticklabels([''] + class_names)\n",
    "        plt.xlabel('Predicted')\n",
    "        plt.ylabel('True')\n",
    "        plt.show()"
   ]
  },
  {
   "cell_type": "code",
   "execution_count": 51,
   "metadata": {
    "colab": {
     "base_uri": "https://localhost:8080/",
     "height": 727
    },
    "colab_type": "code",
    "id": "br04uXnSxDTC",
    "outputId": "b9dc50e6-6be3-43a6-ad4b-27b0e4f4493f"
   },
   "outputs": [
    {
     "name": "stdout",
     "output_type": "stream",
     "text": [
      "Random Forest\n",
      "Accuracy is: 0.989\n",
      "precision is: 0.929\n",
      "recall is: 0.742\n"
     ]
    },
    {
     "data": {
      "image/png": "[encoded data removed]",
      "text/plain": [
       "<Figure size 432x288 with 2 Axes>"
      ]
     },
     "metadata": {
      "tags": []
     },
     "output_type": "display_data"
    },
    {
     "name": "stdout",
     "output_type": "stream",
     "text": [
      "Logistic Regression\n",
      "Accuracy is: 0.980\n",
      "precision is: 0.829\n",
      "recall is: 0.548\n"
     ]
    },
    {
     "data": {
      "image/png": "[encoded data removed]",
      "text/plain": [
       "<Figure size 432x288 with 2 Axes>"
      ]
     },
     "metadata": {
      "tags": []
     },
     "output_type": "display_data"
    }
   ],
   "source": [
    "# Confusion matrix, accuracy, precison and recall for random forest and logistic regression\n",
    "confusion_matrices = [\n",
    "    (\"Random Forest\", confusion_matrix(y_test,best_RF_model.predict(X_test))),\n",
    "    (\"Logistic Regression\", confusion_matrix(y_test,best_LR_model.predict(X_test))),\n",
    "]\n",
    "\n",
    "draw_confusion_matrices(confusion_matrices)"
   ]
  },
  {
   "cell_type": "markdown",
   "metadata": {
    "colab_type": "text",
    "id": "MsFdRj8Yx_Il"
   },
   "source": [
    "# Part 4: Feature Selection"
   ]
  },
  {
   "cell_type": "markdown",
   "metadata": {
    "colab_type": "text",
    "id": "YdOk_Brit0qa"
   },
   "source": [
    "### Part 4.1:  Logistic Regression Model - Feature Selection Discussion \n",
    "\n"
   ]
  },
  {
   "cell_type": "code",
   "execution_count": 52,
   "metadata": {
    "colab": {
     "base_uri": "https://localhost:8080/",
     "height": 4148
    },
    "colab_type": "code",
    "id": "Z6l4iFkht0KT",
    "outputId": "984b9561-d48f-42a2-c9be-06451b16c7c1"
   },
   "outputs": [
    {
     "name": "stdout",
     "output_type": "stream",
     "text": [
      "Logistic Regression (L1) Coefficients\n",
      "App_2_DWB: 4.2935\n",
      "App_21_Email_Recipient: 4.0944\n",
      "App_2_DVD-Burn: -3.7467\n",
      "State_Name_Indiana: 3.1492\n",
      "State_Name_South Carolina: 2.8332\n",
      "App_3_To_CDBurn: 2.2513\n",
      "App_1_Box_Aged_Files: -1.9951\n",
      "App_2_To_USB: 1.7635\n",
      "App_15_Request_90day: -1.683\n",
      "Badge_Rejection_Distinct_Locations_Threshold_7day: 1.6766\n",
      "Career_Band_OTHSAL: 1.5591\n",
      "State_Name_North Carolina: -1.5051\n",
      "App_11_To_USB: 1.4703\n",
      "HRU_HRU19: -1.3685\n",
      "Business_Segment_Aviation Aeroderivatives: 1.262\n",
      "State_Name_Pennsylvania: 1.256\n",
      "App_8_Threshold_90day: -1.2203\n",
      "State_Name_Massachusetts: -1.171\n",
      "App_13_Website_Visit: -1.1453\n",
      "App_3_To_Internet_upload: -1.1112\n",
      "COUNTRY_CODE_SG: -0.9938\n",
      "Top_Users_That_Egressed_Files_To_USB: 0.9445\n",
      "App_2_To_Box: 0.909\n",
      "HRU_HRU12: -0.9085\n",
      "score: -0.8966\n",
      "HRU_HRU5: 0.891\n",
      "State_Name_Mississippi: 0.8696\n",
      "State_Name_Florida: -0.8266\n",
      "App_1_USB_Aged_Files: -0.7985\n",
      "State_Name_Alabama: 0.7901\n",
      "App_2_Access_Volume_7day: -0.7835\n",
      "Business_Segment_Aviation Commercial Engines: -0.7818\n",
      "COUNTRY_CODE_PL: 0.7243\n",
      "Threshold_Large_Number_of_Email_Attachments_To_nonGE: -0.687\n",
      "Business_Segment_Aviation Business & General Aviation & Integrated Systems: -0.6675\n",
      "App_11_To_Box: -0.6436\n",
      "Threshold_Blocked_Alerts: 0.6343\n",
      "App_3_To_Print: 0.6262\n",
      "App_25_Military_Keywords: 0.6246\n",
      "App_2_Access_Volume_30day: -0.6229\n",
      "Business_Segment_Aviation Additive: -0.6054\n",
      "Threshold_Large_File_Movement_Server_To_USB: 0.569\n",
      "State_Name_Ohio: -0.5645\n",
      "Business_Segment_Aviation Finance: -0.5376\n",
      "Career_Band_No_Data: -0.5287\n",
      "State_Name_Jiangsu: 0.5281\n",
      "Badge_Rejection_Expired_Badge_New_System: 0.5037\n",
      "App_18_EXE_Downloaded_From_Non-GE_File_Count: -0.4746\n",
      "App_15_Request_7day: 0.4326\n",
      "App_4_Marked_General_Access: -0.411\n",
      "App_11_Internet_Upload: -0.4061\n",
      "Business_Segment_Aviation Supply Chain: -0.3899\n",
      "COUNTRY_CODE_BR: -0.376\n",
      "App_15_Request_30day: 0.3684\n",
      "Threshold_Large_Number_Prints: 0.3361\n",
      "Career_Band_PB: -0.3212\n",
      "Career_Band_SPB: 0.3183\n",
      "Email_Attachments_To_Competitor_Domain: -0.3128\n",
      "Function_Group_Commercial: -0.3104\n",
      "Badge_Rejection_Expired_Badge: -0.2717\n",
      "COUNTRY_CODE_CN: 0.2507\n",
      "App_3_Critical_Egress_Email: 0.2432\n",
      "alert_type_Monthly_Heat: -0.2187\n",
      "App_2_Email: 0.2163\n",
      "Business_Segment_Aviation AvioAero: 0.1955\n",
      "COUNTRY_CODE_US: -0.1955\n",
      "Business_Segment_Aviation Engineering: -0.1947\n",
      "HRU_HRU2: -0.187\n",
      "alert_type_Weekly_Heat: 0.1743\n",
      "Career_Band_HRLY: -0.1711\n",
      "Function_Group_Enabling: -0.1508\n",
      "HRU_HRU11: 0.1494\n",
      "App_3_To_USB: 0.1248\n",
      "COUNTRY_CODE_HU: 0.1133\n",
      "App_2_Reject_Volume_90day: 0.1009\n",
      "State_Name_Pest: 0.0903\n",
      "State_Name_Virginia: 0.0436\n",
      "Military_Keywords: 0.0297\n",
      "risk_factor: 0.0257\n",
      "App_11_DVD-Burn: 0.0\n",
      "App_11_To_Non-GE_Email: 0.0\n",
      "App_14_Threshold_1: 0.0\n",
      "App_16_Threshold_30day: 0.0\n",
      "App_16_Threshold_7day: 0.0\n",
      "App_18_Int_File_Count: 0.0\n",
      "App_18_To_Competitor_Website: 0.0\n",
      "App_1_Chrome_ADE_Aged_Files: 0.0\n",
      "App_1_External_Email_Aged_Files: 0.0\n",
      "App_1_NTU_Aged_Files: 0.0\n",
      "App_1_Print_Aged_Files: 0.0\n",
      "App_1_Terminal_Services_Aged_Files: 0.0\n",
      "App_22_Actual_Termination_Date: 0.0\n",
      "App_22_Suspended: 0.0\n",
      "App_23_Allegation_Confirmed: 0.0\n",
      "App_23_Corrective_Action: 0.0\n",
      "App_24_Travel_high_risk_countries: 0.0\n",
      "App_25_Keywords_Email: 0.0\n",
      "App_2_Access_Volume_90day: 0.0\n",
      "App_2_Internet_Upload: 0.0\n",
      "App_2_Not_Key_Tech_Threshold: 0.0\n",
      "App_2_Not_Key_Tech_Threshold_level_2: 0.0\n",
      "App_2_Plus_Key_Tech_Over_30_Days: 0.0\n",
      "App_2_Plus_Key_Tech_Over_7_Days: 0.0\n",
      "App_2_Plus_Key_Tech_Over_90_Days: 0.0\n",
      "App_2_Plus_Key_Tech_Threshold: 0.0\n",
      "App_2_Plus_Key_Tech_Threshold_Level_2: 0.0\n",
      "App_2_Reject_Volume_30day: 0.0\n",
      "App_2_Reject_Volume_7day: 0.0\n",
      "App_2_To_RDP: 0.0\n",
      "App_3_Chrome_ADE: 0.0\n",
      "App_3_DVD-Burn: 0.0\n",
      "App_3_To_Box: 0.0\n",
      "App_3_To_RDP: 0.0\n",
      "App_4_Article_Access-30_Day_Threshold>30: 0.0\n",
      "App_4_Article_Access-7_Day_Threshold>10: 0.0\n",
      "App_4_Article_Access-90_Day_Threshold>100: 0.0\n",
      "App_4_Marked-Intellectual_Property: 0.0\n",
      "App_4_Marked_Restricted_Access: 0.0\n",
      "App_4_Request_Volume_30day: 0.0\n",
      "App_4_Request_Volume_7day: 0.0\n",
      "App_4_Request_Volume_90day: 0.0\n",
      "App_5_Use_30day: 0.0\n",
      "App_5_Use_7day: 0.0\n",
      "App_5_Use_90day: 0.0\n",
      "App_7_Threshold_30day: 0.0\n",
      "App_7_Threshold_7day: 0.0\n",
      "App_8_Threshold_30day: 0.0\n",
      "App_8_Threshold_7day: 0.0\n",
      "App_9_Threshold_30day>300: 0.0\n",
      "Badge_Rejection_Distinct_Locations_Threshold_7day_New_System: 0.0\n",
      "Business_Segment_Aviation: 0.0\n",
      "Business_Segment_Aviation Avionics & Digital Systems: 0.0\n",
      "Business_Segment_Aviation China: 0.0\n",
      "Business_Segment_Aviation Communications & GE Advantage: 0.0\n",
      "Business_Segment_Aviation Digital: 0.0\n",
      "Business_Segment_Aviation Digital League: 0.0\n",
      "Business_Segment_Aviation Headquarters: 0.0\n",
      "Business_Segment_Aviation Human Resources: 0.0\n",
      "Business_Segment_Aviation Legal & Business Development: 0.0\n",
      "Business_Segment_Aviation Military Systems: 0.0\n",
      "Business_Segment_Aviation Sales & Marketing: 0.0\n",
      "Business_Segment_Aviation Services: 0.0\n",
      "Business_Segment_Digital Technology: 0.0\n",
      "COUNTRY_CODE_AE: 0.0\n",
      "COUNTRY_CODE_AR: 0.0\n",
      "COUNTRY_CODE_AU: 0.0\n",
      "COUNTRY_CODE_CA: 0.0\n",
      "COUNTRY_CODE_CZ: 0.0\n",
      "COUNTRY_CODE_DE: 0.0\n",
      "COUNTRY_CODE_ET: 0.0\n",
      "COUNTRY_CODE_FR: 0.0\n",
      "COUNTRY_CODE_GB: 0.0\n",
      "COUNTRY_CODE_IN: 0.0\n",
      "COUNTRY_CODE_IT: 0.0\n",
      "COUNTRY_CODE_JP: 0.0\n",
      "COUNTRY_CODE_MX: 0.0\n",
      "COUNTRY_CODE_MY: 0.0\n",
      "COUNTRY_CODE_TR: 0.0\n",
      "COUNTRY_CODE_TW: 0.0\n",
      "Career_Band_EB: 0.0\n",
      "Career_Band_LPB: 0.0\n",
      "Career_Band_LTB: 0.0\n",
      "Career_Band_SEB: 0.0\n",
      "Email_CAD_To_NonGE: 0.0\n",
      "Email_Zipped_to_external: 0.0\n",
      "Function_Group_Production: 0.0\n",
      "HRU_HRU: 0.0\n",
      "HRU_HRU13: 0.0\n",
      "HRU_HRU18: 0.0\n",
      "HRU_HRU3: 0.0\n",
      "HRU_HRU6: 0.0\n",
      "HRU_HRU7: 0.0\n",
      "HRU_None: 0.0\n",
      "MIL_Keywords_Email: 0.0\n",
      "State_Name_Abu Dhabi: 0.0\n",
      "State_Name_Addis Ababa: 0.0\n",
      "State_Name_Alberta: 0.0\n",
      "State_Name_Arizona: 0.0\n",
      "State_Name_Bavaria: 0.0\n",
      "State_Name_Beijing: 0.0\n",
      "State_Name_Brindisi: 0.0\n",
      "State_Name_California: 0.0\n",
      "State_Name_Ceara: 0.0\n",
      "State_Name_Central Singapore: 0.0\n",
      "State_Name_Ciudad Autonoma de Buenos Aires: 0.0\n",
      "State_Name_Coahuila: 0.0\n",
      "State_Name_Colorado: 0.0\n",
      "State_Name_Connecticut: 0.0\n",
      "State_Name_Delaware: 0.0\n",
      "State_Name_District Of Columbia: 0.0\n",
      "State_Name_Dubai: 0.0\n",
      "State_Name_England: 0.0\n",
      "State_Name_Georgia: 0.0\n",
      "State_Name_Guangdong: 0.0\n",
      "State_Name_Hainan: 0.0\n",
      "State_Name_Haryana: 0.0\n",
      "State_Name_Ile-de-France: 0.0\n",
      "State_Name_Illinois: 0.0\n",
      "State_Name_Iowa: 0.0\n",
      "State_Name_Kansas: 0.0\n",
      "State_Name_Karnataka: 0.0\n",
      "State_Name_Kentucky: 0.0\n",
      "State_Name_Kocaeli: 0.0\n",
      "State_Name_Louisiana: 0.0\n",
      "State_Name_Lower Silesian: 0.0\n",
      "State_Name_Maharashtra: 0.0\n",
      "State_Name_Maine: 0.0\n",
      "State_Name_Maryland: 0.0\n",
      "State_Name_Masovian: 0.0\n",
      "State_Name_Michigan: 0.0\n",
      "State_Name_New Hampshire: 0.0\n",
      "State_Name_New South Wales: 0.0\n",
      "State_Name_New York: 0.0\n",
      "State_Name_No_Data: 0.0\n",
      "State_Name_Nova Scotia: 0.0\n",
      "State_Name_Oklahoma: 0.0\n",
      "State_Name_Prague: 0.0\n",
      "State_Name_Quebec: 0.0\n",
      "State_Name_Queensland: 0.0\n",
      "State_Name_Queretaro: 0.0\n",
      "State_Name_Rio de Janeiro: 0.0\n",
      "State_Name_Sao Paulo: 0.0\n",
      "State_Name_Scotland: 0.0\n",
      "State_Name_Selangor: 0.0\n",
      "State_Name_Shaanxi: 0.0\n",
      "State_Name_Shandong: 0.0\n",
      "State_Name_Shanghai: 0.0\n",
      "State_Name_Silesian: 0.0\n",
      "State_Name_Taoyuan: 0.0\n",
      "State_Name_Texas: 0.0\n",
      "State_Name_Tokyo: 0.0\n",
      "State_Name_Turin: 0.0\n",
      "State_Name_Vermont: 0.0\n",
      "State_Name_Victoria: 0.0\n",
      "State_Name_Wales: 0.0\n",
      "State_Name_Washington: 0.0\n",
      "Top_Users_That_Egressed_Files_To_CD: 0.0\n",
      "Top_Users_That_Egressed_Files_To_Non_GE: 0.0\n",
      "Unknown_Error: 0.0\n",
      "alert_type_Atomic: 0.0\n",
      "alert_type_Daily_Heat: 0.0\n",
      "malicious_ord: 0.0\n"
     ]
    }
   ],
   "source": [
    "# add L1 regularization to logistic regression\n",
    "# check the coef for feature selection\n",
    "LRmodel_l1 = LogisticRegression(penalty=\"l1\", C = 0.1)\n",
    "LRmodel_l1.fit(X, y)\n",
    "LRmodel_l1.coef_[0]\n",
    "print (\"Logistic Regression (L1) Coefficients\")\n",
    "for k,v in sorted(zip(map(lambda x: round(x, 4), LRmodel_l1.coef_[0]), \\\n",
    "                      X.columns), key=lambda k_v:(-abs(k_v[0]),k_v[1])):\n",
    "    print (v + \": \" + str(k))"
   ]
  },
  {
   "cell_type": "code",
   "execution_count": 53,
   "metadata": {
    "colab": {
     "base_uri": "https://localhost:8080/",
     "height": 4148
    },
    "colab_type": "code",
    "id": "3tsjbGRGtzxH",
    "outputId": "2a352ca4-76d0-43e0-f124-22f532b712c1"
   },
   "outputs": [
    {
     "name": "stdout",
     "output_type": "stream",
     "text": [
      "Logistic Regression (L2) Coefficients\n",
      "App_21_Email_Recipient: 7.1846\n",
      "App_15_Request_90day: -5.7153\n",
      "App_11_To_Box: -4.9784\n",
      "State_Name_Lower Silesian: 4.4896\n",
      "App_2_Reject_Volume_90day: 4.4827\n",
      "HRU_HRU5: 4.4452\n",
      "Business_Segment_Aviation Headquarters: -4.3963\n",
      "State_Name_Indiana: 4.3738\n",
      "HRU_HRU19: -4.2492\n",
      "State_Name_South Carolina: 3.9704\n",
      "App_2_DWB: 3.9547\n",
      "Business_Segment_Aviation Aeroderivatives: 3.9547\n",
      "Badge_Rejection_Distinct_Locations_Threshold_7day: 3.7745\n",
      "Badge_Rejection_Expired_Badge_New_System: 3.705\n",
      "COUNTRY_CODE_PL: 3.6616\n",
      "App_25_Keywords_Email: -3.3304\n",
      "App_3_To_CDBurn: 3.288\n",
      "Badge_Rejection_Expired_Badge: -3.1187\n",
      "App_2_DVD-Burn: -3.0788\n",
      "App_2_Reject_Volume_30day: -2.9777\n",
      "App_2_Reject_Volume_7day: -2.9777\n",
      "State_Name_Pennsylvania: 2.9287\n",
      "HRU_HRU7: -2.9036\n",
      "App_8_Threshold_90day: -2.8587\n",
      "App_14_Threshold_1: -2.7827\n",
      "State_Name_Florida: -2.6619\n",
      "State_Name_Masovian: -2.6482\n",
      "App_2_To_USB: 2.607\n",
      "State_Name_Virginia: 2.5468\n",
      "App_22_Suspended: -2.5281\n",
      "App_1_Box_Aged_Files: -2.5273\n",
      "App_1_Terminal_Services_Aged_Files: -2.4929\n",
      "State_Name_Coahuila: -2.4534\n",
      "COUNTRY_CODE_CN: 2.4326\n",
      "Business_Segment_Aviation Sales & Marketing: 2.3939\n",
      "State_Name_England: 2.3483\n",
      "App_4_Marked_General_Access: -2.3256\n",
      "State_Name_New York: -2.3128\n",
      "App_11_Internet_Upload: -2.3106\n",
      "Business_Segment_Aviation Finance: -2.2125\n",
      "State_Name_Washington: -2.2005\n",
      "App_11_To_USB: 2.134\n",
      "Business_Segment_Aviation Commercial Engines: -1.9874\n",
      "Business_Segment_Aviation Military Systems: 1.9686\n",
      "State_Name_Queretaro: 1.9686\n",
      "HRU_HRU: -1.9568\n",
      "State_Name_New South Wales: -1.947\n",
      "App_3_To_Box: -1.9402\n",
      "App_2_Internet_Upload: -1.9319\n",
      "App_1_Print_Aged_Files: 1.9173\n",
      "Career_Band_OTHSAL: 1.9086\n",
      "Function_Group_Commercial: -1.9068\n",
      "State_Name_Beijing: -1.8633\n",
      "App_15_Request_30day: 1.8567\n",
      "State_Name_Massachusetts: -1.8561\n",
      "App_18_To_Competitor_Website: 1.854\n",
      "State_Name_Silesian: 1.8202\n",
      "COUNTRY_CODE_DE: -1.8122\n",
      "COUNTRY_CODE_BR: -1.7768\n",
      "App_4_Marked-Intellectual_Property: 1.7514\n",
      "COUNTRY_CODE_AU: -1.7378\n",
      "App_11_DVD-Burn: 1.7097\n",
      "App_4_Request_Volume_7day: -1.7063\n",
      "App_4_Article_Access-90_Day_Threshold>100: -1.6994\n",
      "State_Name_Dubai: 1.6873\n",
      "Badge_Rejection_Distinct_Locations_Threshold_7day_New_System: -1.6832\n",
      "State_Name_Sao Paulo: -1.6748\n",
      "App_18_EXE_Downloaded_From_Non-GE_File_Count: -1.645\n",
      "HRU_HRU6: 1.5853\n",
      "HRU_HRU18: -1.5488\n",
      "State_Name_Georgia: -1.5444\n",
      "App_2_Not_Key_Tech_Threshold: 1.5418\n",
      "State_Name_Jiangsu: 1.5378\n",
      "App_1_USB_Aged_Files: -1.5362\n",
      "State_Name_Guangdong: 1.5006\n",
      "State_Name_Vermont: -1.4915\n",
      "App_3_DVD-Burn: 1.4757\n",
      "State_Name_North Carolina: -1.4746\n",
      "App_2_To_Box: 1.4708\n",
      "App_4_Request_Volume_30day: 1.4695\n",
      "State_Name_Victoria: 1.4649\n",
      "App_13_Website_Visit: -1.4574\n",
      "State_Name_Mississippi: 1.4484\n",
      "State_Name_Bavaria: -1.4099\n",
      "State_Name_Maryland: -1.4038\n",
      "App_2_Plus_Key_Tech_Over_30_Days: -1.3923\n",
      "State_Name_Shanghai: -1.3923\n",
      "Business_Segment_Digital Technology: 1.3918\n",
      "State_Name_Maharashtra: -1.3856\n",
      "MIL_Keywords_Email: 1.3523\n",
      "Threshold_Large_Number_of_Email_Attachments_To_nonGE: -1.3284\n",
      "State_Name_Haryana: 1.3217\n",
      "App_4_Article_Access-30_Day_Threshold>30: 1.3208\n",
      "App_3_Critical_Egress_Email: 1.3072\n",
      "App_23_Allegation_Confirmed: 1.2842\n",
      "App_23_Corrective_Action: 1.2842\n",
      "State_Name_New Hampshire: 1.2814\n",
      "Business_Segment_Aviation Additive: -1.273\n",
      "State_Name_Michigan: -1.2557\n",
      "State_Name_Queensland: -1.2557\n",
      "Career_Band_SEB: -1.2405\n",
      "App_2_Access_Volume_7day: -1.2394\n",
      "HRU_HRU11: 1.2134\n",
      "App_25_Military_Keywords: 1.2118\n",
      "State_Name_Alabama: 1.211\n",
      "App_2_To_RDP: -1.203\n",
      "COUNTRY_CODE_HU: 1.1845\n",
      "State_Name_Pest: 1.1845\n",
      "Email_Zipped_to_external: 1.1642\n",
      "App_3_Chrome_ADE: -1.1544\n",
      "App_2_Access_Volume_90day: -1.1511\n",
      "Business_Segment_Aviation Supply Chain: -1.1482\n",
      "State_Name_Nova Scotia: -1.1146\n",
      "score: -1.1141\n",
      "alert_type_Atomic: -1.1048\n",
      "Threshold_Large_Number_Prints: 1.0949\n",
      "COUNTRY_CODE_FR: -1.088\n",
      "COUNTRY_CODE_JP: -1.0805\n",
      "State_Name_Tokyo: -1.0805\n",
      "Business_Segment_Aviation Digital: 1.0738\n",
      "State_Name_Kansas: 1.0616\n",
      "App_2_Email: 1.0476\n",
      "Business_Segment_Aviation Avionics & Digital Systems: 1.04\n",
      "State_Name_Illinois: 1.0338\n",
      "State_Name_Arizona: -1.0137\n",
      "COUNTRY_CODE_CA: -1.0067\n",
      "Business_Segment_Aviation Communications & GE Advantage: -1.0018\n",
      "Business_Segment_Aviation AvioAero: -0.9805\n",
      "Business_Segment_Aviation Services: 0.9742\n",
      "Function_Group_Enabling: -0.972\n",
      "alert_type_Monthly_Heat: -0.9489\n",
      "App_3_To_RDP: -0.9414\n",
      "HRU_None: 0.9324\n",
      "App_2_Access_Volume_30day: -0.9213\n",
      "Business_Segment_Aviation China: -0.9163\n",
      "HRU_HRU3: -0.9163\n",
      "App_9_Threshold_30day>300: -0.8929\n",
      "Threshold_Large_File_Movement_Server_To_USB: 0.8835\n",
      "HRU_HRU13: 0.8769\n",
      "State_Name_Ile-de-France: -0.8595\n",
      "COUNTRY_CODE_MY: -0.8386\n",
      "State_Name_Selangor: -0.8386\n",
      "State_Name_Scotland: -0.836\n",
      "Career_Band_No_Data: -0.8188\n",
      "Career_Band_HRLY: -0.8057\n",
      "COUNTRY_CODE_SG: -0.7831\n",
      "State_Name_Quebec: 0.7589\n",
      "App_18_Int_File_Count: -0.7575\n",
      "State_Name_Hainan: -0.7482\n",
      "App_3_To_Print: 0.7312\n",
      "State_Name_Ceara: -0.7263\n",
      "Business_Segment_Aviation Digital League: -0.722\n",
      "Career_Band_PB: -0.7013\n",
      "State_Name_Shaanxi: 0.69\n",
      "Threshold_Blocked_Alerts: 0.6719\n",
      "App_11_To_Non-GE_Email: -0.6697\n",
      "App_4_Request_Volume_90day: -0.6654\n",
      "State_Name_Ohio: -0.6613\n",
      "State_Name_Alberta: -0.6509\n",
      "App_2_Plus_Key_Tech_Over_90_Days: -0.6385\n",
      "Career_Band_EB: -0.6375\n",
      "State_Name_Turin: 0.6305\n",
      "State_Name_Rio de Janeiro: 0.6243\n",
      "State_Name_Central Singapore: -0.6202\n",
      "App_1_External_Email_Aged_Files: 0.5993\n",
      "State_Name_Texas: -0.5975\n",
      "Top_Users_That_Egressed_Files_To_USB: 0.5901\n",
      "App_2_Plus_Key_Tech_Over_7_Days: 0.5881\n",
      "COUNTRY_CODE_IT: 0.5731\n",
      "App_2_Not_Key_Tech_Threshold_level_2: -0.5584\n",
      "App_5_Use_30day: -0.5443\n",
      "App_5_Use_7day: -0.5443\n",
      "App_5_Use_90day: -0.5443\n",
      "App_1_NTU_Aged_Files: -0.537\n",
      "State_Name_California: -0.5274\n",
      "HRU_HRU12: -0.5192\n",
      "Business_Segment_Aviation Engineering: -0.5106\n",
      "alert_type_Daily_Heat: -0.4976\n",
      "COUNTRY_CODE_MX: -0.4848\n",
      "State_Name_Connecticut: 0.4812\n",
      "State_Name_Iowa: -0.445\n",
      "COUNTRY_CODE_AE: 0.4348\n",
      "State_Name_Abu Dhabi: -0.41\n",
      "App_7_Threshold_30day: -0.4044\n",
      "App_7_Threshold_7day: -0.4044\n",
      "Career_Band_LTB: -0.3956\n",
      "App_2_Plus_Key_Tech_Threshold: -0.3888\n",
      "Email_Attachments_To_Competitor_Domain: -0.3879\n",
      "Top_Users_That_Egressed_Files_To_Non_GE: -0.3792\n",
      "Business_Segment_Aviation Human Resources: 0.3731\n",
      "App_1_Chrome_ADE_Aged_Files: -0.362\n",
      "Business_Segment_Aviation: -0.3558\n",
      "App_22_Actual_Termination_Date: 0.3479\n",
      "App_4_Marked_Restricted_Access: -0.3377\n",
      "State_Name_Wales: -0.3256\n",
      "App_8_Threshold_30day: -0.3223\n",
      "State_Name_Kentucky: -0.3196\n",
      "COUNTRY_CODE_GB: -0.3052\n",
      "State_Name_No_Data: -0.2918\n",
      "App_4_Article_Access-7_Day_Threshold>10: 0.2812\n",
      "COUNTRY_CODE_AR: -0.2618\n",
      "State_Name_Ciudad Autonoma de Buenos Aires: -0.2618\n",
      "Business_Segment_Aviation Legal & Business Development: -0.2592\n",
      "HRU_HRU2: 0.258\n",
      "State_Name_District Of Columbia: -0.2516\n",
      "State_Name_Colorado: -0.2507\n",
      "alert_type_Weekly_Heat: -0.2316\n",
      "State_Name_Maine: 0.2246\n",
      "Unknown_Error: -0.21\n",
      "State_Name_Karnataka: 0.2067\n",
      "Career_Band_LPB: -0.2037\n",
      "malicious_ord: 0.199\n",
      "App_3_To_Internet_upload: -0.1901\n",
      "App_2_Plus_Key_Tech_Threshold_Level_2: -0.1892\n",
      "Business_Segment_Aviation Business & General Aviation & Integrated Systems: -0.1891\n",
      "Email_CAD_To_NonGE: -0.1811\n",
      "Military_Keywords: 0.1695\n",
      "App_15_Request_7day: 0.1688\n",
      "COUNTRY_CODE_TR: 0.149\n",
      "State_Name_Kocaeli: 0.149\n",
      "State_Name_Louisiana: -0.1435\n",
      "COUNTRY_CODE_IN: 0.1428\n",
      "App_3_To_USB: 0.1418\n",
      "COUNTRY_CODE_US: 0.1304\n",
      "State_Name_Shandong: -0.1281\n",
      "COUNTRY_CODE_ET: -0.1215\n",
      "State_Name_Addis Ababa: -0.1215\n",
      "COUNTRY_CODE_CZ: -0.113\n",
      "State_Name_Prague: -0.113\n",
      "Career_Band_SPB: 0.1117\n",
      "Function_Group_Production: 0.0959\n",
      "App_24_Travel_high_risk_countries: -0.0853\n",
      "COUNTRY_CODE_TW: -0.0817\n",
      "State_Name_Taoyuan: -0.0817\n",
      "App_8_Threshold_7day: -0.059\n",
      "State_Name_Brindisi: -0.0574\n",
      "risk_factor: 0.0372\n",
      "State_Name_Oklahoma: -0.0247\n",
      "Top_Users_That_Egressed_Files_To_CD: -0.0233\n",
      "State_Name_Delaware: 0.0052\n",
      "App_16_Threshold_30day: -0.004\n",
      "App_16_Threshold_7day: -0.004\n"
     ]
    }
   ],
   "source": [
    "# add L2 regularization to logistic regression\n",
    "# check the coef for feature selection\n",
    "LRmodel_l2 = LogisticRegression(penalty=\"l2\", C = 5)\n",
    "LRmodel_l2.fit(X, y)\n",
    "LRmodel_l2.coef_[0]\n",
    "print (\"Logistic Regression (L2) Coefficients\")\n",
    "for k,v in sorted(zip(map(lambda x: round(x, 4), LRmodel_l2.coef_[0]), \\\n",
    "                      X.columns), key=lambda k_v:(-abs(k_v[0]),k_v[1])):\n",
    "    print (v + \": \" + str(k))"
   ]
  },
  {
   "cell_type": "markdown",
   "metadata": {
    "colab_type": "text",
    "id": "L6t46yWZzHAz"
   },
   "source": [
    "### Part 4.2: Random Forest Model - Feature Importance Discussion"
   ]
  },
  {
   "cell_type": "code",
   "execution_count": 54,
   "metadata": {
    "colab": {
     "base_uri": "https://localhost:8080/",
     "height": 4148
    },
    "colab_type": "code",
    "id": "QtAVpmFezCjE",
    "outputId": "1effb98e-53d5-48cd-dd48-5e6501bc0522"
   },
   "outputs": [
    {
     "name": "stdout",
     "output_type": "stream",
     "text": [
      "Feature importance ranking by Random Forest Model:\n",
      "score: 0.0715\n",
      "risk_factor: 0.0626\n",
      "App_2_DWB: 0.0545\n",
      "Business_Segment_Aviation Aeroderivatives: 0.0543\n",
      "malicious_ord: 0.0507\n",
      "Top_Users_That_Egressed_Files_To_USB: 0.0477\n",
      "HRU_HRU5: 0.0415\n",
      "State_Name_South Carolina: 0.0374\n",
      "App_11_To_USB: 0.0343\n",
      "Threshold_Blocked_Alerts: 0.0289\n",
      "Threshold_Large_File_Movement_Server_To_USB: 0.026\n",
      "App_2_To_USB: 0.023\n",
      "State_Name_Indiana: 0.0223\n",
      "Career_Band_OTHSAL: 0.0206\n",
      "Career_Band_LPB: 0.0186\n",
      "Business_Segment_Aviation Supply Chain: 0.0173\n",
      "Career_Band_SPB: 0.016\n",
      "State_Name_Ohio: 0.0153\n",
      "Business_Segment_Aviation Engineering: 0.0151\n",
      "App_21_Email_Recipient: 0.0127\n",
      "alert_type_Weekly_Heat: 0.0113\n",
      "Email_Attachments_To_Competitor_Domain: 0.0112\n",
      "HRU_None: 0.0109\n",
      "State_Name_Alabama: 0.0108\n",
      "App_3_To_CDBurn: 0.0087\n",
      "State_Name_Mississippi: 0.0085\n",
      "HRU_HRU11: 0.0085\n",
      "State_Name_North Carolina: 0.0083\n",
      "App_2_DVD-Burn: 0.0078\n",
      "Career_Band_PB: 0.0077\n",
      "alert_type_Atomic: 0.0074\n",
      "App_3_To_USB: 0.0072\n",
      "COUNTRY_CODE_CN: 0.0071\n",
      "App_3_Critical_Egress_Email: 0.0068\n",
      "App_3_To_Internet_upload: 0.0065\n",
      "alert_type_Daily_Heat: 0.0063\n",
      "Career_Band_No_Data: 0.0062\n",
      "Function_Group_Production: 0.006\n",
      "Business_Segment_Aviation Additive: 0.006\n",
      "App_3_To_Print: 0.0059\n",
      "alert_type_Monthly_Heat: 0.0056\n",
      "Function_Group_Enabling: 0.0052\n",
      "App_1_USB_Aged_Files: 0.0051\n",
      "Business_Segment_Aviation Digital: 0.0044\n",
      "Email_CAD_To_NonGE: 0.0043\n",
      "COUNTRY_CODE_US: 0.0042\n",
      "Badge_Rejection_Distinct_Locations_Threshold_7day: 0.0041\n",
      "HRU_HRU12: 0.004\n",
      "App_2_Email: 0.004\n",
      "Function_Group_Commercial: 0.0037\n",
      "HRU_HRU13: 0.0036\n",
      "App_2_To_Box: 0.0035\n",
      "State_Name_Michigan: 0.0033\n",
      "Threshold_Large_Number_of_Email_Attachments_To_nonGE: 0.0027\n",
      "State_Name_Massachusetts: 0.0026\n",
      "Badge_Rejection_Expired_Badge: 0.0026\n",
      "Badge_Rejection_Distinct_Locations_Threshold_7day_New_System: 0.0026\n",
      "Career_Band_LTB: 0.0025\n",
      "Business_Segment_Digital Technology: 0.0024\n",
      "App_13_Website_Visit: 0.0024\n",
      "State_Name_Texas: 0.0023\n",
      "State_Name_Delaware: 0.0023\n",
      "Business_Segment_Aviation AvioAero: 0.0023\n",
      "App_22_Actual_Termination_Date: 0.0023\n",
      "Business_Segment_Aviation Business & General Aviation & Integrated Systems: 0.0022\n",
      "State_Name_Pennsylvania: 0.002\n",
      "Career_Band_HRLY: 0.002\n",
      "Business_Segment_Aviation Finance: 0.002\n",
      "Business_Segment_Aviation Commercial Engines: 0.002\n",
      "Threshold_Large_Number_Prints: 0.0019\n",
      "State_Name_Queretaro: 0.0019\n",
      "Business_Segment_Aviation Sales & Marketing: 0.0019\n",
      "Business_Segment_Aviation Avionics & Digital Systems: 0.0019\n",
      "Top_Users_That_Egressed_Files_To_Non_GE: 0.0018\n",
      "State_Name_Beijing: 0.0018\n",
      "Military_Keywords: 0.0018\n",
      "Badge_Rejection_Expired_Badge_New_System: 0.0018\n",
      "App_1_Box_Aged_Files: 0.0018\n",
      "App_2_Internet_Upload: 0.0017\n",
      "App_11_Internet_Upload: 0.0017\n",
      "State_Name_Jiangsu: 0.0016\n",
      "COUNTRY_CODE_PL: 0.0016\n",
      "COUNTRY_CODE_MX: 0.0016\n",
      "Business_Segment_Aviation Military Systems: 0.0016\n",
      "App_15_Request_7day: 0.0016\n",
      "State_Name_Maryland: 0.0015\n",
      "Email_Zipped_to_external: 0.0015\n",
      "App_18_EXE_Downloaded_From_Non-GE_File_Count: 0.0015\n",
      "App_15_Request_30day: 0.0015\n",
      "Career_Band_EB: 0.0013\n",
      "App_25_Military_Keywords: 0.0013\n",
      "State_Name_Silesian: 0.0012\n",
      "App_4_Request_Volume_7day: 0.0012\n",
      "App_1_External_Email_Aged_Files: 0.0012\n",
      "App_18_To_Competitor_Website: 0.0012\n",
      "State_Name_Virginia: 0.0011\n",
      "State_Name_Shanghai: 0.0011\n",
      "COUNTRY_CODE_IT: 0.0011\n",
      "COUNTRY_CODE_HU: 0.0011\n",
      "App_3_DVD-Burn: 0.0011\n",
      "App_2_Not_Key_Tech_Threshold: 0.0011\n",
      "App_2_Access_Volume_30day: 0.0011\n",
      "State_Name_Turin: 0.001\n",
      "State_Name_Lower Silesian: 0.001\n",
      "COUNTRY_CODE_AU: 0.001\n",
      "App_2_Reject_Volume_90day: 0.001\n",
      "State_Name_Rio de Janeiro: 0.0009\n",
      "State_Name_Pest: 0.0009\n",
      "State_Name_Masovian: 0.0009\n",
      "State_Name_Maine: 0.0009\n",
      "State_Name_California: 0.0009\n",
      "COUNTRY_CODE_BR: 0.0009\n",
      "Business_Segment_Aviation Human Resources: 0.0009\n",
      "App_2_Access_Volume_7day: 0.0009\n",
      "App_18_Int_File_Count: 0.0009\n",
      "State_Name_Florida: 0.0008\n",
      "HRU_HRU2: 0.0008\n",
      "App_8_Threshold_30day: 0.0008\n",
      "App_4_Marked_General_Access: 0.0008\n",
      "State_Name_Victoria: 0.0007\n",
      "App_4_Marked-Intellectual_Property: 0.0007\n",
      "State_Name_Central Singapore: 0.0006\n",
      "State_Name_New Hampshire: 0.0005\n",
      "MIL_Keywords_Email: 0.0005\n",
      "Business_Segment_Aviation Services: 0.0005\n",
      "App_8_Threshold_7day: 0.0005\n",
      "App_2_Not_Key_Tech_Threshold_level_2: 0.0005\n",
      "HRU_HRU7: 0.0004\n",
      "COUNTRY_CODE_GB: 0.0004\n",
      "App_8_Threshold_90day: 0.0004\n",
      "App_4_Article_Access-30_Day_Threshold>30: 0.0004\n",
      "App_1_Print_Aged_Files: 0.0004\n",
      "State_Name_Illinois: 0.0003\n",
      "State_Name_Guangdong: 0.0003\n",
      "State_Name_Bavaria: 0.0003\n",
      "HRU_HRU18: 0.0003\n",
      "COUNTRY_CODE_CA: 0.0003\n",
      "App_4_Article_Access-7_Day_Threshold>10: 0.0003\n",
      "App_3_To_Box: 0.0003\n",
      "App_11_DVD-Burn: 0.0003\n",
      "State_Name_Quebec: 0.0002\n",
      "State_Name_No_Data: 0.0002\n",
      "State_Name_Haryana: 0.0002\n",
      "State_Name_Dubai: 0.0002\n",
      "COUNTRY_CODE_SG: 0.0002\n",
      "COUNTRY_CODE_MY: 0.0002\n",
      "COUNTRY_CODE_IN: 0.0002\n",
      "COUNTRY_CODE_DE: 0.0002\n",
      "App_4_Request_Volume_30day: 0.0002\n",
      "App_1_Terminal_Services_Aged_Files: 0.0002\n",
      "State_Name_Prague: 0.0001\n",
      "State_Name_Kocaeli: 0.0001\n",
      "State_Name_Karnataka: 0.0001\n",
      "State_Name_Kansas: 0.0001\n",
      "State_Name_Georgia: 0.0001\n",
      "State_Name_England: 0.0001\n",
      "State_Name_Connecticut: 0.0001\n",
      "State_Name_Colorado: 0.0001\n",
      "HRU_HRU19: 0.0001\n",
      "Career_Band_SEB: 0.0001\n",
      "COUNTRY_CODE_TR: 0.0001\n",
      "COUNTRY_CODE_FR: 0.0001\n",
      "Business_Segment_Aviation Legal & Business Development: 0.0001\n",
      "Business_Segment_Aviation Headquarters: 0.0001\n",
      "App_4_Request_Volume_90day: 0.0001\n",
      "App_4_Marked_Restricted_Access: 0.0001\n",
      "App_3_Chrome_ADE: 0.0001\n",
      "App_2_Plus_Key_Tech_Threshold: 0.0001\n",
      "App_2_Plus_Key_Tech_Over_30_Days: 0.0001\n",
      "App_2_Access_Volume_90day: 0.0001\n",
      "App_25_Keywords_Email: 0.0001\n",
      "App_22_Suspended: 0.0001\n",
      "App_1_NTU_Aged_Files: 0.0001\n",
      "App_15_Request_90day: 0.0001\n",
      "App_14_Threshold_1: 0.0001\n",
      "Unknown_Error: 0.0\n",
      "Top_Users_That_Egressed_Files_To_CD: 0.0\n",
      "State_Name_Washington: 0.0\n",
      "State_Name_Wales: 0.0\n",
      "State_Name_Vermont: 0.0\n",
      "State_Name_Tokyo: 0.0\n",
      "State_Name_Taoyuan: 0.0\n",
      "State_Name_Shandong: 0.0\n",
      "State_Name_Shaanxi: 0.0\n",
      "State_Name_Selangor: 0.0\n",
      "State_Name_Scotland: 0.0\n",
      "State_Name_Sao Paulo: 0.0\n",
      "State_Name_Queensland: 0.0\n",
      "State_Name_Oklahoma: 0.0\n",
      "State_Name_Nova Scotia: 0.0\n",
      "State_Name_New York: 0.0\n",
      "State_Name_New South Wales: 0.0\n",
      "State_Name_Maharashtra: 0.0\n",
      "State_Name_Louisiana: 0.0\n",
      "State_Name_Kentucky: 0.0\n",
      "State_Name_Iowa: 0.0\n",
      "State_Name_Ile-de-France: 0.0\n",
      "State_Name_Hainan: 0.0\n",
      "State_Name_District Of Columbia: 0.0\n",
      "State_Name_Coahuila: 0.0\n",
      "State_Name_Ciudad Autonoma de Buenos Aires: 0.0\n",
      "State_Name_Ceara: 0.0\n",
      "State_Name_Brindisi: 0.0\n",
      "State_Name_Arizona: 0.0\n",
      "State_Name_Alberta: 0.0\n",
      "State_Name_Addis Ababa: 0.0\n",
      "State_Name_Abu Dhabi: 0.0\n",
      "HRU_HRU6: 0.0\n",
      "HRU_HRU3: 0.0\n",
      "HRU_HRU: 0.0\n",
      "COUNTRY_CODE_TW: 0.0\n",
      "COUNTRY_CODE_JP: 0.0\n",
      "COUNTRY_CODE_ET: 0.0\n",
      "COUNTRY_CODE_CZ: 0.0\n",
      "COUNTRY_CODE_AR: 0.0\n",
      "COUNTRY_CODE_AE: 0.0\n",
      "Business_Segment_Aviation Digital League: 0.0\n",
      "Business_Segment_Aviation Communications & GE Advantage: 0.0\n",
      "Business_Segment_Aviation China: 0.0\n",
      "Business_Segment_Aviation: 0.0\n",
      "App_9_Threshold_30day>300: 0.0\n",
      "App_7_Threshold_7day: 0.0\n",
      "App_7_Threshold_30day: 0.0\n",
      "App_5_Use_90day: 0.0\n",
      "App_5_Use_7day: 0.0\n",
      "App_5_Use_30day: 0.0\n",
      "App_4_Article_Access-90_Day_Threshold>100: 0.0\n",
      "App_3_To_RDP: 0.0\n",
      "App_2_To_RDP: 0.0\n",
      "App_2_Reject_Volume_7day: 0.0\n",
      "App_2_Reject_Volume_30day: 0.0\n",
      "App_2_Plus_Key_Tech_Threshold_Level_2: 0.0\n",
      "App_2_Plus_Key_Tech_Over_90_Days: 0.0\n",
      "App_2_Plus_Key_Tech_Over_7_Days: 0.0\n",
      "App_24_Travel_high_risk_countries: 0.0\n",
      "App_23_Corrective_Action: 0.0\n",
      "App_23_Allegation_Confirmed: 0.0\n",
      "App_1_Chrome_ADE_Aged_Files: 0.0\n",
      "App_16_Threshold_7day: 0.0\n",
      "App_16_Threshold_30day: 0.0\n",
      "App_11_To_Non-GE_Email: 0.0\n",
      "App_11_To_Box: 0.0\n"
     ]
    }
   ],
   "source": [
    "# check feature importance of random forest for feature selection\n",
    "forest = RandomForestClassifier()\n",
    "forest.fit(X, y)\n",
    "\n",
    "importances = forest.feature_importances_\n",
    "\n",
    "importance_dict = {}\n",
    "# Print the feature ranking\n",
    "print(\"Feature importance ranking by Random Forest Model:\")\n",
    "for k,v in sorted(zip(map(lambda x: round(x, 4), importances), X.columns), reverse=True):\n",
    "    print (v + \": \" + str(k))\n",
    "    importance_dict[v] = k"
   ]
  },
  {
   "cell_type": "code",
   "execution_count": 55,
   "metadata": {
    "colab": {
     "base_uri": "https://localhost:8080/",
     "height": 312
    },
    "colab_type": "code",
    "id": "cYy6EpEEtzOC",
    "outputId": "8ef59b07-faf1-4a9c-cc15-b9eb6a1743b5"
   },
   "outputs": [
    {
     "data": {
      "text/plain": [
       "Text(0.5, 1.0, 'Feature Importance of RF')"
      ]
     },
     "execution_count": 55,
     "metadata": {
      "tags": []
     },
     "output_type": "execute_result"
    },
    {
     "data": {
      "image/png": "[encoded data removed]",
      "text/plain": [
       "<Figure size 432x288 with 1 Axes>"
      ]
     },
     "metadata": {
      "tags": []
     },
     "output_type": "display_data"
    }
   ],
   "source": [
    "df = pd.DataFrame.from_dict(importance_dict, orient='index', columns=['Importance'])\n",
    "df_rt = df[:10]\n",
    "sns.barplot(x='Importance', y=df_rt.index, data=df_rt,\n",
    "             palette=\"Blues_d\")\n",
    "plt.title('Feature Importance of RF')"
   ]
  },
  {
   "cell_type": "code",
   "execution_count": null,
   "metadata": {
    "colab": {},
    "colab_type": "code",
    "id": "7mspZrXWty2L"
   },
   "outputs": [],
   "source": []
  }
 ],
 "metadata": {
  "colab": {
   "collapsed_sections": [],
   "name": "6080 Project Final_submit.ipynb",
   "provenance": [],
   "version": "0.3.2"
  },
  "kernelspec": {
   "display_name": "Python 3",
   "language": "python",
   "name": "python3"
  },
  "language_info": {
   "codemirror_mode": {
    "name": "ipython",
    "version": 3
   },
   "file_extension": ".py",
   "mimetype": "text/x-python",
   "name": "python",
   "nbconvert_exporter": "python",
   "pygments_lexer": "ipython3",
   "version": "3.7.3"
  }
 },
 "nbformat": 4,
 "nbformat_minor": 2
}
